{
 "cells": [
  {
   "cell_type": "markdown",
   "id": "6e8d3c8f",
   "metadata": {},
   "source": [
    "# Decorator\n",
    "\n",
    "- Modificam ou extendem o comportamento de funções existentes de forma reutilizável\n",
    "\n",
    "- Adicionam funcionalidades a funções existentes sem modificar seu código diretamente\n"
   ]
  },
  {
   "cell_type": "code",
   "execution_count": 6,
   "id": "6f9d57c4",
   "metadata": {},
   "outputs": [],
   "source": [
    "from meu_decorator import my_decorator, split_string"
   ]
  },
  {
   "cell_type": "code",
   "execution_count": 2,
   "id": "538c8601",
   "metadata": {},
   "outputs": [],
   "source": [
    "@my_decorator # Decorador que adiciona o código no inicio e no fim do código, usa-se anotations\n",
    "def my_function():\n",
    "    print(\"Dentro da funcao\")"
   ]
  },
  {
   "cell_type": "code",
   "execution_count": 3,
   "id": "05d51669",
   "metadata": {},
   "outputs": [
    {
     "name": "stdout",
     "output_type": "stream",
     "text": [
      "Antes de executar a funcao\n",
      "Dentro da funcao\n",
      "Depois de executar a funcao\n"
     ]
    }
   ],
   "source": [
    "my_function()"
   ]
  },
  {
   "cell_type": "code",
   "execution_count": 5,
   "id": "febfeef6",
   "metadata": {},
   "outputs": [
    {
     "name": "stdout",
     "output_type": "stream",
     "text": [
      "['Olá', 'mundo!']\n"
     ]
    }
   ],
   "source": [
    "@split_string\n",
    "def fun():\n",
    "    return \"Olá mundo!\"\n",
    "\n",
    "print(fun())"
   ]
  }
 ],
 "metadata": {
  "kernelspec": {
   "display_name": "Python 3",
   "language": "python",
   "name": "python3"
  },
  "language_info": {
   "codemirror_mode": {
    "name": "ipython",
    "version": 3
   },
   "file_extension": ".py",
   "mimetype": "text/x-python",
   "name": "python",
   "nbconvert_exporter": "python",
   "pygments_lexer": "ipython3",
   "version": "3.11.9"
  }
 },
 "nbformat": 4,
 "nbformat_minor": 5
}
