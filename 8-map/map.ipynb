{
 "cells": [
  {
   "cell_type": "markdown",
   "id": "051651fe",
   "metadata": {},
   "source": [
    "# Map\n",
    "- Função que aplica uma função a todos os itens de um iteravel (uma lista, por exemplo)\n",
    "- É uma maneira eficiente e consisa de transformar dados.\n"
   ]
  },
  {
   "cell_type": "code",
   "execution_count": 4,
   "id": "7ead57a6",
   "metadata": {},
   "outputs": [],
   "source": [
    "def quadrado(x):\n",
    "    return x ** 2"
   ]
  },
  {
   "cell_type": "code",
   "execution_count": 6,
   "id": "24641c3e",
   "metadata": {},
   "outputs": [],
   "source": [
    "numeros = [1, 2, 3, 4, 5]"
   ]
  },
  {
   "cell_type": "markdown",
   "id": "de2e5b04",
   "metadata": {},
   "source": [
    "Forma antiga"
   ]
  },
  {
   "cell_type": "code",
   "execution_count": 8,
   "id": "cb881127",
   "metadata": {},
   "outputs": [
    {
     "name": "stdout",
     "output_type": "stream",
     "text": [
      "[1, 4, 9, 16, 25]\n"
     ]
    }
   ],
   "source": [
    "resultado = []\n",
    "for n in numeros:\n",
    "    resultado.append(quadrado(n))\n",
    "\n",
    "print(resultado)"
   ]
  },
  {
   "cell_type": "markdown",
   "id": "da5e0e11",
   "metadata": {},
   "source": [
    "Com o Map"
   ]
  },
  {
   "cell_type": "code",
   "execution_count": null,
   "id": "15396eea",
   "metadata": {},
   "outputs": [
    {
     "name": "stdout",
     "output_type": "stream",
     "text": [
      "[1, 4, 9, 16, 25]\n"
     ]
    }
   ],
   "source": [
    "resultados = list(map(quadrado, numeros)) # Parâmetros: função e iteravel\n",
    "\n",
    "print(resultados)"
   ]
  },
  {
   "cell_type": "markdown",
   "id": "82f837e1",
   "metadata": {},
   "source": [
    "Converter para Fahrenheit"
   ]
  },
  {
   "cell_type": "code",
   "execution_count": 11,
   "id": "4d1ce8e3",
   "metadata": {},
   "outputs": [],
   "source": [
    "def celsius_para_fahrenheit(c):\n",
    "    return (c * 9/5) + 32"
   ]
  },
  {
   "cell_type": "code",
   "execution_count": 12,
   "id": "d2ec09cb",
   "metadata": {},
   "outputs": [],
   "source": [
    "temperaturas_celcius = [0, 20, 37, 100]"
   ]
  },
  {
   "cell_type": "code",
   "execution_count": 13,
   "id": "2ec3b820",
   "metadata": {},
   "outputs": [],
   "source": [
    "temperaturas_fahrenheit = list(map(celsius_para_fahrenheit, temperaturas_celcius))"
   ]
  },
  {
   "cell_type": "code",
   "execution_count": 14,
   "id": "80ad2208",
   "metadata": {},
   "outputs": [
    {
     "data": {
      "text/plain": [
       "[32.0, 68.0, 98.6, 212.0]"
      ]
     },
     "execution_count": 14,
     "metadata": {},
     "output_type": "execute_result"
    }
   ],
   "source": [
    "temperaturas_fahrenheit"
   ]
  },
  {
   "cell_type": "markdown",
   "id": "b1db05df",
   "metadata": {},
   "source": [
    "Uso de lambda"
   ]
  },
  {
   "cell_type": "code",
   "execution_count": 15,
   "id": "e1d84100",
   "metadata": {},
   "outputs": [
    {
     "name": "stdout",
     "output_type": "stream",
     "text": [
      "[6, 8, 10, 12, 14]\n"
     ]
    }
   ],
   "source": [
    "lista = [3, 4, 5, 6, 7]\n",
    "\n",
    "dobro = list(map(lambda x : x * 2, lista))\n",
    "\n",
    "print(dobro)"
   ]
  },
  {
   "cell_type": "markdown",
   "id": "c679beb3",
   "metadata": {},
   "source": [
    "Normalizar nomes"
   ]
  },
  {
   "cell_type": "code",
   "execution_count": 25,
   "id": "6b2a5ecf",
   "metadata": {},
   "outputs": [],
   "source": [
    "def nomalizar_nomes(nome):\n",
    "    return nome.strip().capitalize()"
   ]
  },
  {
   "cell_type": "code",
   "execution_count": 26,
   "id": "f3dff555",
   "metadata": {},
   "outputs": [],
   "source": [
    "nomes = [\" Ana\", \"João\", \"MARIA \", \"pedro\", \"LUcAs    \"]"
   ]
  },
  {
   "cell_type": "code",
   "execution_count": 27,
   "id": "24e7e043",
   "metadata": {},
   "outputs": [],
   "source": [
    "nomes_normalizados = list(map(nomalizar_nomes, nomes))"
   ]
  },
  {
   "cell_type": "code",
   "execution_count": 28,
   "id": "0d3eed13",
   "metadata": {},
   "outputs": [
    {
     "data": {
      "text/plain": [
       "['Ana', 'João', 'Maria', 'Pedro', 'Lucas']"
      ]
     },
     "execution_count": 28,
     "metadata": {},
     "output_type": "execute_result"
    }
   ],
   "source": [
    "nomes_normalizados"
   ]
  }
 ],
 "metadata": {
  "kernelspec": {
   "display_name": "Python 3",
   "language": "python",
   "name": "python3"
  },
  "language_info": {
   "codemirror_mode": {
    "name": "ipython",
    "version": 3
   },
   "file_extension": ".py",
   "mimetype": "text/x-python",
   "name": "python",
   "nbconvert_exporter": "python",
   "pygments_lexer": "ipython3",
   "version": "3.11.9"
  }
 },
 "nbformat": 4,
 "nbformat_minor": 5
}
