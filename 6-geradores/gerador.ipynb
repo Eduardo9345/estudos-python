{
 "cells": [
  {
   "cell_type": "markdown",
   "id": "81e8a802",
   "metadata": {},
   "source": [
    "Yield\n",
    "- é uma palavra chave para criar geradores. Quando usado em uma função, transforma a função em um gerador que é um tipo especial de iterador\n",
    "- Return: Usado em uma função é encerrado e o valor é retornado\n",
    "- Yield: Pode ser chamda novamente e retornar a execução do ponto onde foi pausada, permitindo a produção de uma sequencia de valores\n",
    "- Tem uma performace melhor que o return"
   ]
  },
  {
   "cell_type": "code",
   "execution_count": 1,
   "id": "15e8b75f",
   "metadata": {},
   "outputs": [],
   "source": [
    "def numeros_impares(n):\n",
    "    for i in range(1, n+1, 2):\n",
    "        yield i"
   ]
  },
  {
   "cell_type": "code",
   "execution_count": 2,
   "id": "0fce162f",
   "metadata": {},
   "outputs": [
    {
     "name": "stdout",
     "output_type": "stream",
     "text": [
      "1\n",
      "3\n",
      "5\n",
      "7\n",
      "9\n"
     ]
    }
   ],
   "source": [
    "for numero in numeros_impares(10):\n",
    "    print(numero)"
   ]
  }
 ],
 "metadata": {
  "kernelspec": {
   "display_name": "Python 3",
   "language": "python",
   "name": "python3"
  },
  "language_info": {
   "codemirror_mode": {
    "name": "ipython",
    "version": 3
   },
   "file_extension": ".py",
   "mimetype": "text/x-python",
   "name": "python",
   "nbconvert_exporter": "python",
   "pygments_lexer": "ipython3",
   "version": "3.11.9"
  }
 },
 "nbformat": 4,
 "nbformat_minor": 5
}
