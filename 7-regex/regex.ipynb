{
 "cells": [
  {
   "cell_type": "code",
   "execution_count": 1,
   "id": "6c4800e8",
   "metadata": {},
   "outputs": [],
   "source": [
    "import re"
   ]
  },
  {
   "cell_type": "code",
   "execution_count": 17,
   "id": "c929b57a",
   "metadata": {},
   "outputs": [],
   "source": [
    "def explorar_expressao_regular(texto):\n",
    "    padrao = r'\\bPython\\b'\n",
    "\n",
    "    if(re.search(padrao, texto)):\n",
    "        print(f\"O padrão foi encontrado no texto!\")\n",
    "    else:\n",
    "        print(f\"O padrão não foi encontrado no texto!\")\n",
    "\n",
    "    padrao_email = r'[a-zA-Z0-9._%+-]+@[a-zA-Z0-9.-]+\\.[a-zA-Z]{2,}'\n",
    "    emails = re.findall(padrao_email, texto)\n",
    "\n",
    "    print(f\"Emails encontrados: {emails}\")\n",
    "\n",
    "    texto_substituido = re.sub(r'Python', 'Javascript', texto)\n",
    "    print(texto_substituido)\n",
    "\n",
    "    texto_dividido = re.split(r'\\s+', texto)\n",
    "    print(texto_dividido)\n"
   ]
  },
  {
   "cell_type": "code",
   "execution_count": 18,
   "id": "fa009cc9",
   "metadata": {},
   "outputs": [
    {
     "name": "stdout",
     "output_type": "stream",
     "text": [
      "O padrão foi encontrado no texto!\n",
      "Emails encontrados: ['eduardo@gmail.com', 'eduardo@gmail.com.br']\n",
      "\n",
      "Olá, eu sou um dev Javascript. \n",
      "Você pode me contatar no meu email: eduardo@gmail.com\n",
      "Javascript é uma linguagem de programação popular\n",
      "eduardo@gmail.com.br\n",
      "\n",
      "['', 'Olá,', 'eu', 'sou', 'um', 'dev', 'Python.', 'Você', 'pode', 'me', 'contatar', 'no', 'meu', 'email:', 'eduardo@gmail.com', 'Python', 'é', 'uma', 'linguagem', 'de', 'programação', 'popular', 'eduardo@gmail.com.br', '']\n"
     ]
    }
   ],
   "source": [
    "texto_exemplo = \"\"\"\n",
    "Olá, eu sou um dev Python. \n",
    "Você pode me contatar no meu email: eduardo@gmail.com\n",
    "Python é uma linguagem de programação popular\n",
    "eduardo@gmail.com.br\n",
    "\"\"\"\n",
    "explorar_expressao_regular(texto_exemplo)"
   ]
  },
  {
   "cell_type": "code",
   "execution_count": null,
   "id": "60e0e912",
   "metadata": {},
   "outputs": [],
   "source": []
  }
 ],
 "metadata": {
  "kernelspec": {
   "display_name": "Python 3",
   "language": "python",
   "name": "python3"
  },
  "language_info": {
   "codemirror_mode": {
    "name": "ipython",
    "version": 3
   },
   "file_extension": ".py",
   "mimetype": "text/x-python",
   "name": "python",
   "nbconvert_exporter": "python",
   "pygments_lexer": "ipython3",
   "version": "3.11.9"
  }
 },
 "nbformat": 4,
 "nbformat_minor": 5
}
