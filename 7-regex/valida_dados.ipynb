{
 "cells": [
  {
   "cell_type": "code",
   "execution_count": 1,
   "id": "80760e42",
   "metadata": {},
   "outputs": [],
   "source": [
    "import re"
   ]
  },
  {
   "cell_type": "code",
   "execution_count": 13,
   "id": "dbde163c",
   "metadata": {},
   "outputs": [],
   "source": [
    "def validar_contatos(contatos):\n",
    "    padrao_nome = r'([A-Z][a-z]+(?:\\s[A-Z][a-z]+)?)'\n",
    "    padrao_email = r'([a-zA-Z0-9._%+-]+@[a-zA-Z0-9.-]+\\.[a-zA-Z]{2,})'\n",
    "    padrao_telefone = r'([0-9]{2}\\s[0-9]{5}[-][0-9]{4})'\n",
    "\n",
    "    for contato in contatos:\n",
    "        nome_match = re.search(padrao_nome, contato)\n",
    "        email_match = re.search(padrao_email, contato)\n",
    "        telefone_match = re.search(padrao_telefone, contato)\n",
    "\n",
    "        if (nome_match and email_match and telefone_match):\n",
    "            nome = nome_match.group(1)\n",
    "            email = email_match.group(1)\n",
    "            telefone = telefone_match.group(1)\n",
    "            print(f\"Contato válido: [Nome: {nome}, Email: {email}, Telefone: {telefone}]\")\n",
    "        \n",
    "        else:\n",
    "            print(f\"Contato inválido: [{contato}]\")"
   ]
  },
  {
   "cell_type": "code",
   "execution_count": 14,
   "id": "aa31d4f3",
   "metadata": {},
   "outputs": [
    {
     "name": "stdout",
     "output_type": "stream",
     "text": [
      "Contato válido: [Nome: Alice, Email: alice.silva@gmail.com, Telefone: 11 98765-4321]\n",
      "Contato válido: [Nome: Jos, Email: alice.silva@gmail.com, Telefone: 11 98765-4321]\n",
      "Contato inválido: [Alice, alice.silva@gmail.com, (11) 98765-4321]\n",
      "Contato válido: [Nome: Jo, Email: alice.silva@gmail.com, Telefone: 11 98765-4321]\n",
      "Contato inválido: [João Mário, alice.silva@gmail, 11 987654321]\n"
     ]
    }
   ],
   "source": [
    "contatos_exemplo = [\n",
    "    \"Alice, alice.silva@gmail.com, 11 98765-4321\", #válido\n",
    "    \"José, alice.silva@gmail.com, 11 98765-4321\", #válido\n",
    "    \"Alice, alice.silva@gmail.com, (11) 98765-4321\", #inválido\n",
    "    \"João Mário, alice.silva@gmail.com, 11 98765-4321\", #válido\n",
    "    \"João Mário, alice.silva@gmail, 11 987654321\" #inválido\n",
    "]\n",
    "\n",
    "validar_contatos(contatos_exemplo)"
   ]
  }
 ],
 "metadata": {
  "kernelspec": {
   "display_name": "Python 3",
   "language": "python",
   "name": "python3"
  },
  "language_info": {
   "codemirror_mode": {
    "name": "ipython",
    "version": 3
   },
   "file_extension": ".py",
   "mimetype": "text/x-python",
   "name": "python",
   "nbconvert_exporter": "python",
   "pygments_lexer": "ipython3",
   "version": "3.11.9"
  }
 },
 "nbformat": 4,
 "nbformat_minor": 5
}
