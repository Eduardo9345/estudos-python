{
 "cells": [
  {
   "cell_type": "markdown",
   "id": "24566739",
   "metadata": {},
   "source": [
    "# Walrus\n",
    "\n",
    "- Atribuições de variáveis dentro de expressões\n",
    "- Permite que você atribua uma valor a uma variável enquanto avalia a expressão\n",
    "- É usado com o operador :="
   ]
  },
  {
   "cell_type": "code",
   "execution_count": 1,
   "id": "5c8e5984",
   "metadata": {},
   "outputs": [],
   "source": [
    "numeros = [5, 12, 3, 18, 7, 20]"
   ]
  },
  {
   "cell_type": "code",
   "execution_count": 2,
   "id": "9efcd1a5",
   "metadata": {},
   "outputs": [],
   "source": [
    "numeros_maiores_que_dez = [n for n in numeros if(maior := n) > 10]"
   ]
  },
  {
   "cell_type": "code",
   "execution_count": 3,
   "id": "be98ffb4",
   "metadata": {},
   "outputs": [
    {
     "data": {
      "text/plain": [
       "[12, 18, 20]"
      ]
     },
     "execution_count": 3,
     "metadata": {},
     "output_type": "execute_result"
    }
   ],
   "source": [
    "numeros_maiores_que_dez"
   ]
  }
 ],
 "metadata": {
  "kernelspec": {
   "display_name": "Python 3",
   "language": "python",
   "name": "python3"
  },
  "language_info": {
   "codemirror_mode": {
    "name": "ipython",
    "version": 3
   },
   "file_extension": ".py",
   "mimetype": "text/x-python",
   "name": "python",
   "nbconvert_exporter": "python",
   "pygments_lexer": "ipython3",
   "version": "3.11.9"
  }
 },
 "nbformat": 4,
 "nbformat_minor": 5
}
