{
 "cells": [
  {
   "cell_type": "markdown",
   "id": "8eb90a54",
   "metadata": {},
   "source": [
    "# Metaclasse\n",
    "\n",
    "- Cria classe de forma dinâmica\n",
    "- Pode ser util na criação de frameworks on as classes precisam ter um comportamento específico"
   ]
  },
  {
   "cell_type": "code",
   "execution_count": 4,
   "id": "4110f8a9",
   "metadata": {},
   "outputs": [],
   "source": [
    "class MeuMeta(type):\n",
    "    def __new__(cls, name, bases, dct):\n",
    "        dct['novo_atributo'] = 'Valor adicionado pela metaclasse'\n",
    "        return super().__new__(cls, name, bases, dct)"
   ]
  },
  {
   "cell_type": "code",
   "execution_count": 5,
   "id": "598a22ef",
   "metadata": {},
   "outputs": [],
   "source": [
    "class MinhaClasse(metaclass = MeuMeta):\n",
    "    pass"
   ]
  },
  {
   "cell_type": "code",
   "execution_count": 6,
   "id": "6e9c935a",
   "metadata": {},
   "outputs": [
    {
     "data": {
      "text/plain": [
       "'Valor adicionado pela metaclasse'"
      ]
     },
     "execution_count": 6,
     "metadata": {},
     "output_type": "execute_result"
    }
   ],
   "source": [
    "obj = MinhaClasse()\n",
    "obj.novo_atributo"
   ]
  }
 ],
 "metadata": {
  "kernelspec": {
   "display_name": "Python 3",
   "language": "python",
   "name": "python3"
  },
  "language_info": {
   "codemirror_mode": {
    "name": "ipython",
    "version": 3
   },
   "file_extension": ".py",
   "mimetype": "text/x-python",
   "name": "python",
   "nbconvert_exporter": "python",
   "pygments_lexer": "ipython3",
   "version": "3.11.9"
  }
 },
 "nbformat": 4,
 "nbformat_minor": 5
}
