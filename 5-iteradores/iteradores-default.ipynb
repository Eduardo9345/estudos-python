{
 "cells": [
  {
   "cell_type": "markdown",
   "id": "8cc117a1",
   "metadata": {},
   "source": [
    "# Iteradores Default"
   ]
  },
  {
   "cell_type": "code",
   "execution_count": 1,
   "id": "d555f2a1",
   "metadata": {},
   "outputs": [],
   "source": [
    "import itertools"
   ]
  },
  {
   "cell_type": "code",
   "execution_count": 2,
   "id": "3312b2c1",
   "metadata": {},
   "outputs": [
    {
     "name": "stdout",
     "output_type": "stream",
     "text": [
      "0\n",
      "1\n",
      "2\n",
      "3\n",
      "4\n"
     ]
    }
   ],
   "source": [
    "for i in range(0, 5):\n",
    "    print(i)"
   ]
  },
  {
   "cell_type": "code",
   "execution_count": 3,
   "id": "37546c9b",
   "metadata": {},
   "outputs": [
    {
     "name": "stdout",
     "output_type": "stream",
     "text": [
      "Maça\n",
      "Banana\n",
      "Laranja\n"
     ]
    }
   ],
   "source": [
    "frutas = [\"Maça\", \"Banana\", \"Laranja\"]\n",
    "for f in frutas:\n",
    "    print(f)"
   ]
  },
  {
   "cell_type": "code",
   "execution_count": 4,
   "id": "0e0a8b1a",
   "metadata": {},
   "outputs": [
    {
     "name": "stdout",
     "output_type": "stream",
     "text": [
      "nome Alice\n",
      "idade 30\n"
     ]
    }
   ],
   "source": [
    "dicionario = {\n",
    "    \"nome\": \"Alice\",\n",
    "    \"idade\": 30\n",
    "}\n",
    "\n",
    "for chave, valor in dicionario.items():\n",
    "    print(chave, valor)"
   ]
  },
  {
   "cell_type": "code",
   "execution_count": 5,
   "id": "c05db297",
   "metadata": {},
   "outputs": [
    {
     "name": "stdout",
     "output_type": "stream",
     "text": [
      "0 Maça\n",
      "1 Banana\n",
      "2 Laranja\n"
     ]
    }
   ],
   "source": [
    "#Enumerate traz o valor da lista junto com indice\n",
    "\n",
    "for indice, fruta in enumerate(frutas):\n",
    "    print(indice, fruta)\n",
    "\n"
   ]
  },
  {
   "cell_type": "code",
   "execution_count": 6,
   "id": "801f7cd3",
   "metadata": {},
   "outputs": [
    {
     "name": "stdout",
     "output_type": "stream",
     "text": [
      "Alice 30\n",
      "Bob 25\n",
      "Carlos 35\n"
     ]
    }
   ],
   "source": [
    "# Zip\n",
    "nomes = ['Alice', 'Bob', 'Carlos']\n",
    "idades = [30, 25, 35]\n",
    "\n",
    "for nome, idade in zip(nomes, idades):\n",
    "    print(nome, idade)"
   ]
  },
  {
   "cell_type": "code",
   "execution_count": 7,
   "id": "49a2234a",
   "metadata": {},
   "outputs": [
    {
     "name": "stdout",
     "output_type": "stream",
     "text": [
      "10\n",
      "12\n",
      "14\n",
      "16\n",
      "18\n",
      "20\n"
     ]
    }
   ],
   "source": [
    "# Itertools\n",
    "\n",
    "for i in itertools.count(start=10, step=2):\n",
    "    if i > 20:\n",
    "        break\n",
    "    else:\n",
    "        print(i)"
   ]
  }
 ],
 "metadata": {
  "kernelspec": {
   "display_name": "Python 3",
   "language": "python",
   "name": "python3"
  },
  "language_info": {
   "codemirror_mode": {
    "name": "ipython",
    "version": 3
   },
   "file_extension": ".py",
   "mimetype": "text/x-python",
   "name": "python",
   "nbconvert_exporter": "python",
   "pygments_lexer": "ipython3",
   "version": "3.11.9"
  }
 },
 "nbformat": 4,
 "nbformat_minor": 5
}
