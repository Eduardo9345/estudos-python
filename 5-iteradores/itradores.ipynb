{
 "cells": [
  {
   "cell_type": "markdown",
   "id": "793064c3",
   "metadata": {},
   "source": [
    "# Iterar"
   ]
  },
  {
   "cell_type": "code",
   "execution_count": 4,
   "id": "0e587326",
   "metadata": {},
   "outputs": [],
   "source": [
    "class Contador:\n",
    "    def __init__(self, limite):\n",
    "        self.limite = limite\n",
    "        self.atual = 1\n",
    "\n",
    "    def __iter__(self):\n",
    "        return self\n",
    "    \n",
    "    def __next__(self):\n",
    "        if self.atual > self.limite:\n",
    "            raise StopIteration\n",
    "        else:\n",
    "            valor = self.atual\n",
    "            self.atual += 1\n",
    "            return valor"
   ]
  },
  {
   "cell_type": "code",
   "execution_count": 5,
   "id": "2340eb2d",
   "metadata": {},
   "outputs": [
    {
     "name": "stdout",
     "output_type": "stream",
     "text": [
      "1\n",
      "2\n",
      "3\n",
      "4\n",
      "5\n",
      "6\n",
      "7\n",
      "8\n",
      "9\n",
      "10\n"
     ]
    }
   ],
   "source": [
    "contador = Contador(10)\n",
    "for numero in contador:\n",
    "    print(numero)"
   ]
  }
 ],
 "metadata": {
  "kernelspec": {
   "display_name": "Python 3",
   "language": "python",
   "name": "python3"
  },
  "language_info": {
   "codemirror_mode": {
    "name": "ipython",
    "version": 3
   },
   "file_extension": ".py",
   "mimetype": "text/x-python",
   "name": "python",
   "nbconvert_exporter": "python",
   "pygments_lexer": "ipython3",
   "version": "3.11.9"
  }
 },
 "nbformat": 4,
 "nbformat_minor": 5
}
