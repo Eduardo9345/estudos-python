{
 "cells": [
  {
   "cell_type": "markdown",
   "id": "bafc1d81",
   "metadata": {},
   "source": [
    "# Zip\n",
    "\n",
    "- Combinar múltiplos iteraveis (lista ou tupla) em um único iteravel"
   ]
  },
  {
   "cell_type": "code",
   "execution_count": 1,
   "id": "a637b9f0",
   "metadata": {},
   "outputs": [],
   "source": [
    "nomes = [\"Alice\", \"Bob\", \"Charlie\"]\n",
    "idades = [25, 30, 35]"
   ]
  },
  {
   "cell_type": "code",
   "execution_count": 3,
   "id": "10bf32cd",
   "metadata": {},
   "outputs": [
    {
     "name": "stdout",
     "output_type": "stream",
     "text": [
      "Nome: Alice, Idade: 25 anos\n",
      "Nome: Bob, Idade: 30 anos\n",
      "Nome: Charlie, Idade: 35 anos\n"
     ]
    }
   ],
   "source": [
    "for nome, idade in zip(nomes, idades):\n",
    "    print(f\"Nome: {nome}, Idade: {idade} anos\")"
   ]
  },
  {
   "cell_type": "code",
   "execution_count": 5,
   "id": "0236c706",
   "metadata": {},
   "outputs": [
    {
     "data": {
      "text/plain": [
       "{'Alice': 25, 'Bob': 30, 'Charlie': 35}"
      ]
     },
     "execution_count": 5,
     "metadata": {},
     "output_type": "execute_result"
    }
   ],
   "source": [
    "pessoas = dict(zip(nomes, idades))\n",
    "pessoas"
   ]
  },
  {
   "cell_type": "code",
   "execution_count": 7,
   "id": "f2fc18ff",
   "metadata": {},
   "outputs": [
    {
     "data": {
      "text/plain": [
       "{'Bob': 30, 'Charlie': 35}"
      ]
     },
     "execution_count": 7,
     "metadata": {},
     "output_type": "execute_result"
    }
   ],
   "source": [
    "pessoas_acima_de_30_anos = {nome : idade for nome, idade in pessoas.items() if idade >= 30}\n",
    "pessoas_acima_de_30_anos"
   ]
  }
 ],
 "metadata": {
  "kernelspec": {
   "display_name": "Python 3",
   "language": "python",
   "name": "python3"
  },
  "language_info": {
   "codemirror_mode": {
    "name": "ipython",
    "version": 3
   },
   "file_extension": ".py",
   "mimetype": "text/x-python",
   "name": "python",
   "nbconvert_exporter": "python",
   "pygments_lexer": "ipython3",
   "version": "3.11.9"
  }
 },
 "nbformat": 4,
 "nbformat_minor": 5
}
