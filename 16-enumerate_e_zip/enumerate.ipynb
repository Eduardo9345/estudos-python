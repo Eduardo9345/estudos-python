{
 "cells": [
  {
   "cell_type": "markdown",
   "id": "3634463f",
   "metadata": {},
   "source": [
    "# Enumerate\n",
    "\n",
    "- Consegue associar o valor e o indice de uma lista"
   ]
  },
  {
   "cell_type": "code",
   "execution_count": 1,
   "id": "2e990330",
   "metadata": {},
   "outputs": [],
   "source": [
    "frutas = [\"Maça\", \"Banana\", \"Laranja\"]"
   ]
  },
  {
   "cell_type": "code",
   "execution_count": null,
   "id": "a3415b43",
   "metadata": {},
   "outputs": [
    {
     "name": "stdout",
     "output_type": "stream",
     "text": [
      "0 - Maça\n",
      "1 - Banana\n",
      "2 - Laranja\n"
     ]
    }
   ],
   "source": [
    "for indice, fruta in enumerate(frutas): # Retorna o indice e o valor\n",
    "    print(f\"{indice} - {fruta}\")"
   ]
  },
  {
   "cell_type": "code",
   "execution_count": 6,
   "id": "36df208e",
   "metadata": {},
   "outputs": [],
   "source": [
    "numeros = [10, 15, 20, 25, 30]"
   ]
  },
  {
   "cell_type": "code",
   "execution_count": 8,
   "id": "e77c9d55",
   "metadata": {},
   "outputs": [
    {
     "data": {
      "text/plain": [
       "{0: 10, 1: 15, 2: 20, 3: 25, 4: 30}"
      ]
     },
     "execution_count": 8,
     "metadata": {},
     "output_type": "execute_result"
    }
   ],
   "source": [
    "indices_valores = {indice : valor for indice, valor in enumerate(numeros)}\n",
    "indices_valores"
   ]
  },
  {
   "cell_type": "code",
   "execution_count": 11,
   "id": "7eace4a5",
   "metadata": {},
   "outputs": [
    {
     "data": {
      "text/plain": [
       "{0: 10, 2: 20, 4: 30}"
      ]
     },
     "execution_count": 11,
     "metadata": {},
     "output_type": "execute_result"
    }
   ],
   "source": [
    "indices_pares = {indice : valor for indice, valor in indices_valores.items() if indice % 2 == 0}\n",
    "indices_pares"
   ]
  }
 ],
 "metadata": {
  "kernelspec": {
   "display_name": "Python 3",
   "language": "python",
   "name": "python3"
  },
  "language_info": {
   "codemirror_mode": {
    "name": "ipython",
    "version": 3
   },
   "file_extension": ".py",
   "mimetype": "text/x-python",
   "name": "python",
   "nbconvert_exporter": "python",
   "pygments_lexer": "ipython3",
   "version": "3.11.9"
  }
 },
 "nbformat": 4,
 "nbformat_minor": 5
}
