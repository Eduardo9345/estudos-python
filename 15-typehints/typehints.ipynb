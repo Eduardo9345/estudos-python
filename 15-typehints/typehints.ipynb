{
 "cells": [
  {
   "cell_type": "markdown",
   "id": "ce7fd744",
   "metadata": {},
   "source": [
    "# Typehints\n",
    "\n",
    "- Tipagem, adicionar os tipos das variáveis\n",
    "- Indicar tipos de variáveis e parâmetros e valores de retorno de funções\n",
    "- {variavel} : {tipo}"
   ]
  },
  {
   "cell_type": "code",
   "execution_count": 1,
   "id": "5fc33dc6",
   "metadata": {},
   "outputs": [],
   "source": [
    "def soma(a : int, b : int) -> int: # : tipo e (retorno) -> tipo\n",
    "    return a + b"
   ]
  },
  {
   "cell_type": "code",
   "execution_count": 2,
   "id": "3eec1d8e",
   "metadata": {},
   "outputs": [
    {
     "data": {
      "text/plain": [
       "17"
      ]
     },
     "execution_count": 2,
     "metadata": {},
     "output_type": "execute_result"
    }
   ],
   "source": [
    "soma(8, 9)"
   ]
  },
  {
   "cell_type": "markdown",
   "id": "b33e543c",
   "metadata": {},
   "source": [
    "Concatena se for string"
   ]
  },
  {
   "cell_type": "code",
   "execution_count": null,
   "id": "56e88a9d",
   "metadata": {},
   "outputs": [
    {
     "data": {
      "text/plain": [
       "'89'"
      ]
     },
     "execution_count": 3,
     "metadata": {},
     "output_type": "execute_result"
    }
   ],
   "source": [
    "soma(\"8\", \"9\") # Não da erro, mas deixa explícito o tipo da variável"
   ]
  },
  {
   "cell_type": "code",
   "execution_count": 4,
   "id": "7abbc9a2",
   "metadata": {},
   "outputs": [],
   "source": [
    "from typing import List"
   ]
  },
  {
   "cell_type": "code",
   "execution_count": 5,
   "id": "13161a1c",
   "metadata": {},
   "outputs": [],
   "source": [
    "class Estudante:\n",
    "    def __init__(self, nome : str, notas : List[float]) -> None:\n",
    "        self.nome = nome\n",
    "        self.notas = notas\n",
    "\n",
    "    def media(self) -> float:\n",
    "        return sum(self.notas) / len(self.notas)"
   ]
  },
  {
   "cell_type": "code",
   "execution_count": 7,
   "id": "8a974471",
   "metadata": {},
   "outputs": [],
   "source": [
    "def alunos_acima_da_media(alunos : List[Estudante], media_minima : float) -> List[str]:\n",
    "    return [aluno.nome for aluno in alunos if aluno.media() >= media_minima]"
   ]
  },
  {
   "cell_type": "code",
   "execution_count": 8,
   "id": "34e2f1a9",
   "metadata": {},
   "outputs": [],
   "source": [
    "alunos = [\n",
    "    Estudante(\"Maria\", [7.5, 8.0, 9.0]),\n",
    "    Estudante(\"Bob\", [6.0, 5.5, 7.0]),\n",
    "    Estudante(\"Carlos\", [8.5, 9.0, 10.0])\n",
    "]"
   ]
  },
  {
   "cell_type": "code",
   "execution_count": 9,
   "id": "8af96217",
   "metadata": {},
   "outputs": [
    {
     "data": {
      "text/plain": [
       "['Maria', 'Carlos']"
      ]
     },
     "execution_count": 9,
     "metadata": {},
     "output_type": "execute_result"
    }
   ],
   "source": [
    "resultados = alunos_acima_da_media(alunos, 8.0)\n",
    "resultados"
   ]
  }
 ],
 "metadata": {
  "kernelspec": {
   "display_name": "Python 3",
   "language": "python",
   "name": "python3"
  },
  "language_info": {
   "codemirror_mode": {
    "name": "ipython",
    "version": 3
   },
   "file_extension": ".py",
   "mimetype": "text/x-python",
   "name": "python",
   "nbconvert_exporter": "python",
   "pygments_lexer": "ipython3",
   "version": "3.11.9"
  }
 },
 "nbformat": 4,
 "nbformat_minor": 5
}
