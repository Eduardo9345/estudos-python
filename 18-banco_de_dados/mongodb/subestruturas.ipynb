{
 "cells": [
  {
   "cell_type": "markdown",
   "id": "1c525360",
   "metadata": {},
   "source": [
    "# Subestruturas"
   ]
  },
  {
   "cell_type": "code",
   "execution_count": 2,
   "id": "0c2ef43f",
   "metadata": {},
   "outputs": [],
   "source": [
    "from pymongo import MongoClient"
   ]
  },
  {
   "cell_type": "code",
   "execution_count": 3,
   "id": "a95df343",
   "metadata": {},
   "outputs": [],
   "source": [
    "client = MongoClient()\n",
    "db = client['nobel']\n"
   ]
  },
  {
   "cell_type": "code",
   "execution_count": 4,
   "id": "06130d35",
   "metadata": {},
   "outputs": [],
   "source": [
    "prizes = db['prizes']\n",
    "laureates = db['laureates']"
   ]
  },
  {
   "cell_type": "code",
   "execution_count": 8,
   "id": "52091b00",
   "metadata": {},
   "outputs": [
    {
     "data": {
      "text/plain": [
       "{'_id': ObjectId('68d2e1ae7b643a0d02d6db1c'),\n",
       " 'id': '290',\n",
       " 'firstname': 'Walter',\n",
       " 'surname': 'Kohn',\n",
       " 'born': '1923-03-09',\n",
       " 'died': '2016-04-19',\n",
       " 'bornCountry': 'Austria',\n",
       " 'bornCountryCode': 'AT',\n",
       " 'bornCity': 'Vienna',\n",
       " 'diedCountry': 'USA',\n",
       " 'diedCountryCode': 'US',\n",
       " 'diedCity': 'Santa Barbara, CA',\n",
       " 'gender': 'male',\n",
       " 'prizes': [{'year': '1998',\n",
       "   'category': 'chemistry',\n",
       "   'share': '2',\n",
       "   'motivation': '\"for his development of the density-functional theory\"',\n",
       "   'affiliations': [{'name': 'University of California',\n",
       "     'city': 'Santa Barbara, CA',\n",
       "     'country': 'USA'}]}]}"
      ]
     },
     "metadata": {},
     "output_type": "display_data"
    }
   ],
   "source": [
    "walter = db.laureates.find_one(\n",
    "    {\n",
    "        'firstname' : 'Walter',\n",
    "        'surname' : 'Kohn'\n",
    "    }\n",
    ")\n",
    "display(walter)"
   ]
  },
  {
   "cell_type": "code",
   "execution_count": 9,
   "id": "92a8a536",
   "metadata": {},
   "outputs": [
    {
     "data": {
      "text/plain": [
       "39"
      ]
     },
     "execution_count": 9,
     "metadata": {},
     "output_type": "execute_result"
    }
   ],
   "source": [
    "california = db.laureates.count_documents(\n",
    "    {\n",
    "        'prizes.affiliations.name' : 'University of California'\n",
    "    }\n",
    ")\n",
    "\n",
    "california"
   ]
  },
  {
   "cell_type": "code",
   "execution_count": 10,
   "id": "c7be4b9e",
   "metadata": {},
   "outputs": [
    {
     "data": {
      "text/plain": [
       "7"
      ]
     },
     "execution_count": 10,
     "metadata": {},
     "output_type": "execute_result"
    }
   ],
   "source": [
    "san_francisco = db.laureates.count_documents(\n",
    "    {\n",
    "        'prizes.affiliations.city' : 'San Francisco, CA'\n",
    "    }\n",
    ")\n",
    "\n",
    "san_francisco"
   ]
  },
  {
   "cell_type": "code",
   "execution_count": 6,
   "id": "06529bbc",
   "metadata": {},
   "outputs": [
    {
     "data": {
      "text/plain": [
       "30"
      ]
     },
     "execution_count": 6,
     "metadata": {},
     "output_type": "execute_result"
    }
   ],
   "source": [
    "no_country = db.laureates.count_documents(\n",
    "    {\n",
    "        'bornCountry' : {\n",
    "            '$exists' : False\n",
    "        }\n",
    "    }\n",
    ")\n",
    "no_country"
   ]
  },
  {
   "cell_type": "code",
   "execution_count": 8,
   "id": "65293ea3",
   "metadata": {},
   "outputs": [
    {
     "data": {
      "text/plain": [
       "0"
      ]
     },
     "execution_count": 8,
     "metadata": {},
     "output_type": "execute_result"
    }
   ],
   "source": [
    "qtd = db.laureates.count_documents(\n",
    "    {\n",
    "        'prizes' : {\n",
    "            '$exists' : False\n",
    "        }\n",
    "    }\n",
    ")\n",
    "qtd"
   ]
  },
  {
   "cell_type": "code",
   "execution_count": 9,
   "id": "3fd47176",
   "metadata": {},
   "outputs": [
    {
     "data": {
      "text/plain": [
       "1004"
      ]
     },
     "execution_count": 9,
     "metadata": {},
     "output_type": "execute_result"
    }
   ],
   "source": [
    "prize_cointain = db.laureates.count_documents(\n",
    "    {\n",
    "        'prizes.0' : {\n",
    "            '$exists' : True\n",
    "        }\n",
    "    }\n",
    ")\n",
    "prize_cointain"
   ]
  },
  {
   "cell_type": "code",
   "execution_count": 10,
   "id": "08548ebe",
   "metadata": {},
   "outputs": [
    {
     "data": {
      "text/plain": [
       "7"
      ]
     },
     "execution_count": 10,
     "metadata": {},
     "output_type": "execute_result"
    }
   ],
   "source": [
    "prize_multi = db.laureates.count_documents(\n",
    "    {\n",
    "        'prizes.1' : {\n",
    "            '$exists' : True\n",
    "        }\n",
    "    }\n",
    ")\n",
    "prize_multi"
   ]
  }
 ],
 "metadata": {
  "kernelspec": {
   "display_name": "base",
   "language": "python",
   "name": "python3"
  },
  "language_info": {
   "codemirror_mode": {
    "name": "ipython",
    "version": 3
   },
   "file_extension": ".py",
   "mimetype": "text/x-python",
   "name": "python",
   "nbconvert_exporter": "python",
   "pygments_lexer": "ipython3",
   "version": "3.13.5"
  }
 },
 "nbformat": 4,
 "nbformat_minor": 5
}
