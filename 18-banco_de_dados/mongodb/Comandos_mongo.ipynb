{
 "cells": [
  {
   "cell_type": "markdown",
   "id": "a0b48c46",
   "metadata": {
    "vscode": {
     "languageId": "plaintext"
    }
   },
   "source": [
    "# Baixar o MongoDB e o MongoDB Compass\n",
    "\n",
    "* Baixar para windows\n",
    "* Cada registro equivale a um documento que fica salvo em coleções em uma base de dados\n",
    "* Parecido com Json"
   ]
  },
  {
   "cell_type": "markdown",
   "id": "d7c3cf33",
   "metadata": {},
   "source": [
    "## Comandos"
   ]
  },
  {
   "cell_type": "markdown",
   "id": "08a1e1c8",
   "metadata": {
    "vscode": {
     "languageId": "plaintext"
    }
   },
   "source": [
    "### Bases de dados\n",
    "Mostra as bases de dados:\n",
    "```shell\n",
    "show dbs;\n",
    "```\n",
    "\n",
    "Criar e usar um banco de dados:\n",
    "\n",
    "```shell\n",
    "use <nome do db>;\n",
    "```\n",
    "---\n",
    "### Coleções\n",
    "* Como se fosse as tabelas, porém mais flexível. A estrutura varia de acordo com os dados inseridos\n",
    "\n",
    "Verificar quais coleções existem no banco:\n",
    "```shell\n",
    "show collections;\n",
    "```\n",
    "#### Criar coleções:\n",
    "```shell\n",
    "db.createCollection('users')\n",
    "```\n",
    "Inserir dados:\n",
    "```shell\n",
    "db.users.insertOne(\n",
    "    {\n",
    "        name : \"Fulano\",\n",
    "        email: \"fulano@email.com\",\n",
    "        phone : \"32323232\"\n",
    "    }\n",
    ");\n",
    "```\n",
    "\n",
    "Saida:\n",
    "```shell\n",
    "{\n",
    "  \"_id\": {\n",
    "    \"$oid\": \"68d1941bf773e52fcddc4e15\" #Gera um object id\n",
    "  },\n",
    "  \"name\": \"Fulano\",\n",
    "  \"email\": \"fulano@email.com\",\n",
    "  \"phone\": \"32323232\"\n",
    "}\n",
    "\n",
    "```\n",
    "\n",
    "#### Listar os dados da coleção:\n",
    "\n",
    "```shell\n",
    "db.users.find({}) # SELECT * FROM ...\n",
    "```\n",
    "\n",
    "\n",
    "Filtrar por nome:\n",
    "```shell\n",
    "db.users.find({name: \"test\"})\n",
    "```\n",
    "\n",
    "#### Atualizar dados\n",
    "```shell\n",
    "db.users.updateOne({name : \"test\"}, {$set : {name: \"Rodrigo\"}}) # $set é o novo valor\n",
    "```\n",
    "\n",
    "#### Excluir dados\n",
    "\n",
    "```shell\n",
    "db.users.deleteOne({name : \"fulano\"}) # $set é o novo valor\n",
    "```"
   ]
  }
 ],
 "metadata": {
  "language_info": {
   "name": "python"
  }
 },
 "nbformat": 4,
 "nbformat_minor": 5
}
