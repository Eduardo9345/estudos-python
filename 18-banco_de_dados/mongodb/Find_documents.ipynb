{
 "cells": [
  {
   "cell_type": "markdown",
   "id": "db6c9093",
   "metadata": {},
   "source": [
    "# Encontrar documentos na coleção\n",
    "\n",
    "---\n",
    "## Estabelecer conexão"
   ]
  },
  {
   "cell_type": "code",
   "execution_count": 1,
   "id": "c4a0506b",
   "metadata": {},
   "outputs": [],
   "source": [
    "from pymongo import MongoClient"
   ]
  },
  {
   "cell_type": "code",
   "execution_count": 3,
   "id": "fa981726",
   "metadata": {},
   "outputs": [],
   "source": [
    "client = MongoClient()"
   ]
  },
  {
   "cell_type": "code",
   "execution_count": 4,
   "id": "a85ca49b",
   "metadata": {},
   "outputs": [],
   "source": [
    "db = client['nobel']"
   ]
  },
  {
   "cell_type": "code",
   "execution_count": 5,
   "id": "ee3d132a",
   "metadata": {},
   "outputs": [],
   "source": [
    "prizes = db['prizes']\n",
    "laureates = db['laureates']"
   ]
  },
  {
   "cell_type": "markdown",
   "id": "82391e79",
   "metadata": {},
   "source": [
    "---\n",
    "## Filtrar documentos por gênero"
   ]
  },
  {
   "cell_type": "code",
   "execution_count": null,
   "id": "8be9c877",
   "metadata": {},
   "outputs": [
    {
     "name": "stdout",
     "output_type": "stream",
     "text": [
      "65\n",
      "911\n"
     ]
    }
   ],
   "source": [
    "print(f\"{db.laureates.count_documents({'gender' : 'female'})}\")\n",
    "print(f\"{db.laureates.count_documents({'gender' : 'male'})}\")"
   ]
  },
  {
   "cell_type": "markdown",
   "id": "9a776130",
   "metadata": {},
   "source": [
    "## Filtrar por pais de morte"
   ]
  },
  {
   "cell_type": "code",
   "execution_count": 8,
   "id": "679fb5e2",
   "metadata": {},
   "outputs": [
    {
     "name": "stdout",
     "output_type": "stream",
     "text": [
      "52\n"
     ]
    }
   ],
   "source": [
    "print(f\"{db.laureates.count_documents({'diedCountry' : 'France'})}\")"
   ]
  },
  {
   "cell_type": "markdown",
   "id": "1771519a",
   "metadata": {},
   "source": [
    "## Filtro composto"
   ]
  },
  {
   "cell_type": "code",
   "execution_count": 10,
   "id": "f62d7820",
   "metadata": {},
   "outputs": [
    {
     "name": "stdout",
     "output_type": "stream",
     "text": [
      "1\n",
      "{'_id': ObjectId('68d2e1ae7b643a0d02d6da05'), 'id': '6', 'firstname': 'Marie', 'surname': 'Curie', 'born': '1867-11-07', 'died': '1934-07-04', 'bornCountry': 'Russian Empire (now Poland)', 'bornCountryCode': 'PL', 'bornCity': 'Warsaw', 'diedCountry': 'France', 'diedCountryCode': 'FR', 'diedCity': 'Sallanches', 'gender': 'female', 'prizes': [{'year': '1903', 'category': 'physics', 'share': '4', 'motivation': '\"in recognition of the extraordinary services they have rendered by their joint researches on the radiation phenomena discovered by Professor Henri Becquerel\"', 'affiliations': [[]]}, {'year': '1911', 'category': 'chemistry', 'share': '1', 'motivation': '\"in recognition of her services to the advancement of chemistry by the discovery of the elements radium and polonium, by the isolation of radium and the study of the nature and compounds of this remarkable element\"', 'affiliations': [{'name': 'Sorbonne University', 'city': 'Paris', 'country': 'France'}]}]}\n"
     ]
    }
   ],
   "source": [
    "filter_doc = {\n",
    "    'diedCountry' : 'France',\n",
    "    'gender' : 'female',\n",
    "    'bornCity' : 'Warsaw'\n",
    "}\n",
    "\n",
    "print(f\"{db.laureates.count_documents(filter=filter_doc)}\")\n",
    "print(f\"{db.laureates.find_one(filter=filter_doc)}\")"
   ]
  },
  {
   "cell_type": "markdown",
   "id": "b9840327",
   "metadata": {},
   "source": [
    "---\n",
    "## Operadores In e Ne"
   ]
  },
  {
   "cell_type": "code",
   "execution_count": 15,
   "id": "de2e643c",
   "metadata": {},
   "outputs": [
    {
     "name": "stdout",
     "output_type": "stream",
     "text": [
      "303\n"
     ]
    }
   ],
   "source": [
    "filter_in = db.laureates.count_documents({\n",
    "    'diedCountry' : {\n",
    "        '$in' : ['France',  'USA'] # Operador que verifica se está em uma lista\n",
    "    }\n",
    "})\n",
    "\n",
    "print(filter_in)"
   ]
  },
  {
   "cell_type": "code",
   "execution_count": 22,
   "id": "c2d722b5",
   "metadata": {},
   "outputs": [
    {
     "name": "stdout",
     "output_type": "stream",
     "text": [
      "753\n"
     ]
    }
   ],
   "source": [
    "# Ne - not equal\n",
    "\n",
    "filter_ne = db.laureates.count_documents(\n",
    "    {\n",
    "        'diedCountry' : {\n",
    "            '$ne' : 'USA' # Laureados que não morreram no USA\n",
    "        }\n",
    "    }\n",
    ")\n",
    "\n",
    "print(filter_ne)"
   ]
  }
 ],
 "metadata": {
  "kernelspec": {
   "display_name": "base",
   "language": "python",
   "name": "python3"
  },
  "language_info": {
   "codemirror_mode": {
    "name": "ipython",
    "version": 3
   },
   "file_extension": ".py",
   "mimetype": "text/x-python",
   "name": "python",
   "nbconvert_exporter": "python",
   "pygments_lexer": "ipython3",
   "version": "3.13.5"
  }
 },
 "nbformat": 4,
 "nbformat_minor": 5
}
