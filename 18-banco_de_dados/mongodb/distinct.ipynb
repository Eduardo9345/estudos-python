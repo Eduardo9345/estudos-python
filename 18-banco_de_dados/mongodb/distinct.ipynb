{
 "cells": [
  {
   "cell_type": "markdown",
   "id": "273b5e1c",
   "metadata": {},
   "source": [
    "# Distinct"
   ]
  },
  {
   "cell_type": "code",
   "execution_count": 1,
   "id": "748bdb89",
   "metadata": {},
   "outputs": [],
   "source": [
    "from pymongo import MongoClient\n",
    "client = MongoClient()\n",
    "db = client['nobel']\n",
    "prizes = db['prizes']\n",
    "laureates = db['laureates']"
   ]
  },
  {
   "cell_type": "code",
   "execution_count": 3,
   "id": "3fa144cd",
   "metadata": {},
   "outputs": [
    {
     "name": "stdout",
     "output_type": "stream",
     "text": [
      "['female', 'male', 'org']\n",
      "65\n",
      "911\n",
      "28\n"
     ]
    }
   ],
   "source": [
    "print(laureates.distinct('gender'))\n",
    "print(laureates.count_documents({'gender' : 'female'}))\n",
    "print(laureates.count_documents({'gender' : 'male'}))\n",
    "print(laureates.count_documents({'gender' : 'org'}))"
   ]
  },
  {
   "cell_type": "code",
   "execution_count": 14,
   "id": "ead89d8f",
   "metadata": {},
   "outputs": [
    {
     "name": "stdout",
     "output_type": "stream",
     "text": [
      "['chemistry', 'economics', 'literature', 'medicine', 'peace', 'physics']\n",
      "['medicine', 'physics', 'chemistry', 'peace', 'literature', 'economics']\n"
     ]
    }
   ],
   "source": [
    "categories = laureates.distinct('prizes.category')\n",
    "print(categories)\n",
    "dict_cat = {}\n",
    "\n",
    "for category in categories:\n",
    "    numero = laureates.count_documents({\n",
    "        'prizes.category' : category\n",
    "    })\n",
    "    dict_cat[category] = numero\n",
    "\n",
    "print(sorted(dict_cat, reverse=True, key = (lambda x : dict_cat[x])))"
   ]
  }
 ],
 "metadata": {
  "kernelspec": {
   "display_name": "base",
   "language": "python",
   "name": "python3"
  },
  "language_info": {
   "codemirror_mode": {
    "name": "ipython",
    "version": 3
   },
   "file_extension": ".py",
   "mimetype": "text/x-python",
   "name": "python",
   "nbconvert_exporter": "python",
   "pygments_lexer": "ipython3",
   "version": "3.13.5"
  }
 },
 "nbformat": 4,
 "nbformat_minor": 5
}
