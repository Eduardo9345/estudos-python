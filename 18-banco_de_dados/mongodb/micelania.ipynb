{
 "cells": [
  {
   "cell_type": "markdown",
   "id": "435c87ea",
   "metadata": {},
   "source": [
    "# Miscelânea"
   ]
  },
  {
   "cell_type": "code",
   "execution_count": 1,
   "id": "384d0861",
   "metadata": {},
   "outputs": [],
   "source": [
    "from pymongo import MongoClient\n",
    "\n",
    "client = MongoClient()\n",
    "db = client['nobel']\n",
    "\n",
    "prizes = db.prizes\n",
    "laureates = db.laureates"
   ]
  },
  {
   "cell_type": "code",
   "execution_count": 8,
   "id": "59d4bb9a",
   "metadata": {},
   "outputs": [
    {
     "name": "stdout",
     "output_type": "stream",
     "text": [
      "47\n"
     ]
    }
   ],
   "source": [
    "print(laureates.count_documents(\n",
    "    {\n",
    "        'prizes' : {\n",
    "            '$elemMatch' : {\n",
    "                'category' : 'physics',\n",
    "                'share' : '1'\n",
    "            }\n",
    "        }\n",
    "    }\n",
    ")) # Combinar filtros"
   ]
  },
  {
   "cell_type": "code",
   "execution_count": 7,
   "id": "92f9af8c",
   "metadata": {},
   "outputs": [
    {
     "name": "stdout",
     "output_type": "stream",
     "text": [
      "29\n"
     ]
    }
   ],
   "source": [
    "print(laureates.count_documents(\n",
    "    {\n",
    "        'prizes' : {\n",
    "            '$elemMatch' : {\n",
    "                'category' : 'physics',\n",
    "                'share' : '1',\n",
    "                'year' : {'$lt' : '1945'} # Less than e Greater than\n",
    "            }\n",
    "        }\n",
    "    }\n",
    ")) # Combinar filtros"
   ]
  },
  {
   "cell_type": "code",
   "execution_count": 4,
   "id": "cb91ec1c",
   "metadata": {},
   "outputs": [
    {
     "name": "stdout",
     "output_type": "stream",
     "text": [
      "2024, economics\n",
      "2023, chemistry\n",
      "2023, physics\n",
      "2022, chemistry\n",
      "2022, economics\n"
     ]
    }
   ],
   "source": [
    "for doc in prizes.find(\n",
    "    {\n",
    "        'laureates.share' : '3'\n",
    "    }, limit=5\n",
    "):\n",
    "    print('{year}, {category}'.format(**doc))"
   ]
  },
  {
   "cell_type": "markdown",
   "id": "a603d9dc",
   "metadata": {},
   "source": [
    "---\n",
    "## Agregações"
   ]
  },
  {
   "cell_type": "code",
   "execution_count": 13,
   "id": "ea373771",
   "metadata": {},
   "outputs": [
    {
     "name": "stdout",
     "output_type": "stream",
     "text": [
      "[{'year': '1923'}]\n",
      "[{'year': '1927'}]\n",
      "[{'year': '1936'}]\n"
     ]
    }
   ],
   "source": [
    "cursor = db.laureates.find(\n",
    "    filter = {'bornCountry' : 'USA'},\n",
    "    projection = {'prizes.year' : 1},\n",
    "    limit = 3\n",
    ")\n",
    "\n",
    "for doc in cursor:\n",
    "    print(doc['prizes'])"
   ]
  },
  {
   "cell_type": "code",
   "execution_count": 16,
   "id": "e879f4bb",
   "metadata": {},
   "outputs": [
    {
     "name": "stdout",
     "output_type": "stream",
     "text": [
      "[{'year': '1923'}]\n",
      "[{'year': '1927'}]\n",
      "[{'year': '1936'}]\n"
     ]
    }
   ],
   "source": [
    "cursor = db.laureates.aggregate([\n",
    "    {'$match' : {'bornCountry' : 'USA'}},\n",
    "    {'$project' : {'prizes.year' : 1, '_id' : 0}},\n",
    "    {'$limit' : 3}\n",
    "])\n",
    "\n",
    "for doc in cursor:\n",
    "    print(doc['prizes'])"
   ]
  }
 ],
 "metadata": {
  "kernelspec": {
   "display_name": "base",
   "language": "python",
   "name": "python3"
  },
  "language_info": {
   "codemirror_mode": {
    "name": "ipython",
    "version": 3
   },
   "file_extension": ".py",
   "mimetype": "text/x-python",
   "name": "python",
   "nbconvert_exporter": "python",
   "pygments_lexer": "ipython3",
   "version": "3.13.5"
  }
 },
 "nbformat": 4,
 "nbformat_minor": 5
}
