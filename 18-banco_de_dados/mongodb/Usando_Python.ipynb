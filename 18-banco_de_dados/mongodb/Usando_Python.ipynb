{
 "cells": [
  {
   "cell_type": "markdown",
   "id": "2e68eccd",
   "metadata": {},
   "source": [
    "# Trabalhando com MongoDB diretamente do Python\n",
    "\n",
    "Biblioteca: pymongo\n",
    "```shell\n",
    "pip install pymongo\n",
    "\n",
    "conda install pymongo\n",
    "```\n",
    "\n",
    "Bancos relacionais:\n",
    "* ORM - Mapeamento Objeto-Relacional\n",
    "\n",
    "Para MongoDB é:\n",
    "* ODB - Mapeamneto Objeto-Documento"
   ]
  },
  {
   "cell_type": "code",
   "execution_count": 1,
   "id": "2483ec08",
   "metadata": {},
   "outputs": [],
   "source": [
    "from pymongo import MongoClient"
   ]
  },
  {
   "cell_type": "markdown",
   "id": "ec32e4ce",
   "metadata": {},
   "source": [
    "Cliente do MongoDB"
   ]
  },
  {
   "cell_type": "code",
   "execution_count": 2,
   "id": "9393c9f6",
   "metadata": {},
   "outputs": [],
   "source": [
    "client = MongoClient()"
   ]
  },
  {
   "cell_type": "markdown",
   "id": "259c5682",
   "metadata": {},
   "source": [
    "Banco de dados"
   ]
  },
  {
   "cell_type": "code",
   "execution_count": null,
   "id": "fb58cf2c",
   "metadata": {},
   "outputs": [],
   "source": [
    "mydb = client.dbposts # Banco, cria automaticamente\n",
    "mycol = mydb.posts # Coleção"
   ]
  },
  {
   "cell_type": "markdown",
   "id": "bf7fd882",
   "metadata": {},
   "source": [
    "---\n",
    "## Inserir dados"
   ]
  },
  {
   "cell_type": "code",
   "execution_count": 4,
   "id": "fbac8e55",
   "metadata": {},
   "outputs": [],
   "source": [
    "post1 = {\n",
    "    \"title\" : \"FastAPI\",\n",
    "    \"category\" : \"backend\",\n",
    "    \"autor\" : {\n",
    "        \"name\" : \"Rodrigo\",\n",
    "        \"email\" : \"rodrigo@gmail.com\"\n",
    "    }\n",
    "} # Agregados (se fosse do relacional, seria 2 tabelas diferentes, uma referenciando a outra por Primary Key)"
   ]
  },
  {
   "cell_type": "code",
   "execution_count": 5,
   "id": "0d298b25",
   "metadata": {},
   "outputs": [
    {
     "name": "stdout",
     "output_type": "stream",
     "text": [
      "Documento incluido!\n"
     ]
    }
   ],
   "source": [
    "result = mycol.insert_one(post1)\n",
    "print(\"Documento incluido!\")"
   ]
  },
  {
   "cell_type": "code",
   "execution_count": 6,
   "id": "1fa828de",
   "metadata": {},
   "outputs": [
    {
     "name": "stdout",
     "output_type": "stream",
     "text": [
      "Inserido!\n"
     ]
    }
   ],
   "source": [
    "post2 = { # Não existe estrutura prévia, baseia-se nos registros ----> FLEXIBILIDADE\n",
    "    \"title\" : \"Pandas\",\n",
    "    \"category\" : \"Data Analysis\",\n",
    "    \"level\" : \"Intermediário\",\n",
    "    \"autor\" : {\n",
    "        \"name\" : \"Rodrigo\",\n",
    "        \"email\" : \"rodrigo@gmail.com\"\n",
    "    }\n",
    "}\n",
    "\n",
    "result = mycol.insert_one(post2)\n",
    "print(\"Inserido!\")"
   ]
  },
  {
   "cell_type": "markdown",
   "id": "959d2ce1",
   "metadata": {},
   "source": [
    "---\n",
    "## Listar dados"
   ]
  },
  {
   "cell_type": "code",
   "execution_count": 7,
   "id": "bc02623b",
   "metadata": {},
   "outputs": [],
   "source": [
    "from pprint import pprint"
   ]
  },
  {
   "cell_type": "code",
   "execution_count": 18,
   "id": "e23da617",
   "metadata": {},
   "outputs": [],
   "source": [
    "result = mycol.find() # SELECT * FROM ...\n",
    "primeiro = mycol.find_one()"
   ]
  },
  {
   "cell_type": "code",
   "execution_count": 19,
   "id": "10f2aadb",
   "metadata": {},
   "outputs": [
    {
     "name": "stdout",
     "output_type": "stream",
     "text": [
      "{'_id': ObjectId('68d2d896a67acb829301caed'), 'title': 'FastAPI', 'category': 'backend', 'autor': {'name': 'Rodrigo', 'email': 'rodrigo@gmail.com'}}\n",
      "{'_id': ObjectId('68d2d9c9a67acb829301caee'), 'title': 'Pandas', 'category': 'Data Analysis', 'level': 'Intermediário', 'autor': {'name': 'Rodrigo', 'email': 'rodrigo@gmail.com'}}\n"
     ]
    }
   ],
   "source": [
    "for r in result:\n",
    "    print(r)"
   ]
  },
  {
   "cell_type": "markdown",
   "id": "c475ba2e",
   "metadata": {},
   "source": [
    "---\n",
    "## Atualizar dados"
   ]
  },
  {
   "cell_type": "code",
   "execution_count": 20,
   "id": "59ecd7d2",
   "metadata": {},
   "outputs": [],
   "source": [
    "old_value = {\"level\" : \"Intermediário\"} # Valor a ser substituido"
   ]
  },
  {
   "cell_type": "code",
   "execution_count": null,
   "id": "d475bbac",
   "metadata": {},
   "outputs": [],
   "source": [
    "new_value = {\"$set\" : {\"level\" : \"Iniciante\"}} # Novo valor"
   ]
  }
 ],
 "metadata": {
  "kernelspec": {
   "display_name": "base",
   "language": "python",
   "name": "python3"
  },
  "language_info": {
   "codemirror_mode": {
    "name": "ipython",
    "version": 3
   },
   "file_extension": ".py",
   "mimetype": "text/x-python",
   "name": "python",
   "nbconvert_exporter": "python",
   "pygments_lexer": "ipython3",
   "version": "3.13.5"
  }
 },
 "nbformat": 4,
 "nbformat_minor": 5
}
