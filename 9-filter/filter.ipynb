{
 "cells": [
  {
   "cell_type": "markdown",
   "id": "3ede2567",
   "metadata": {},
   "source": [
    "# Filter\n",
    "\n",
    "- Filtrar elementos de um iteravel com base em uma função que retorna True ou False\n",
    "- Objetivo é permitir apenas os elementos que satisfazem a condição."
   ]
  },
  {
   "cell_type": "code",
   "execution_count": 1,
   "id": "59039ac0",
   "metadata": {},
   "outputs": [],
   "source": [
    "def e_par(n):\n",
    "    return n % 2 == 0"
   ]
  },
  {
   "cell_type": "code",
   "execution_count": 3,
   "id": "e7499553",
   "metadata": {},
   "outputs": [],
   "source": [
    "numeros = [1, 2, 5, 9, 16, 20, 100, 13, 56]"
   ]
  },
  {
   "cell_type": "code",
   "execution_count": 8,
   "id": "4aa9e591",
   "metadata": {},
   "outputs": [],
   "source": [
    "numeros_pares = list(filter(e_par, numeros)) # Apenas os parâmetros que retornarem True na função"
   ]
  },
  {
   "cell_type": "code",
   "execution_count": 10,
   "id": "b163135e",
   "metadata": {},
   "outputs": [],
   "source": [
    "pares_lambda = list(filter(lambda x : x % 2 == 0, numeros))"
   ]
  },
  {
   "cell_type": "code",
   "execution_count": 9,
   "id": "bfabc506",
   "metadata": {},
   "outputs": [
    {
     "data": {
      "text/plain": [
       "[2, 16, 20, 100, 56]"
      ]
     },
     "execution_count": 9,
     "metadata": {},
     "output_type": "execute_result"
    }
   ],
   "source": [
    "numeros_pares"
   ]
  },
  {
   "cell_type": "code",
   "execution_count": 11,
   "id": "62a3c7bd",
   "metadata": {},
   "outputs": [
    {
     "data": {
      "text/plain": [
       "[2, 16, 20, 100, 56]"
      ]
     },
     "execution_count": 11,
     "metadata": {},
     "output_type": "execute_result"
    }
   ],
   "source": [
    "pares_lambda"
   ]
  },
  {
   "cell_type": "markdown",
   "id": "f4f7c473",
   "metadata": {},
   "source": [
    "---\n",
    "### Exemplo Produtos"
   ]
  },
  {
   "cell_type": "code",
   "execution_count": 13,
   "id": "bb5ab3bf",
   "metadata": {},
   "outputs": [],
   "source": [
    "produtos = [\n",
    "    {\n",
    "        \"nome\" : \"Produto A\",\n",
    "        \"preco\" : 10.0,\n",
    "        \"em_estoque\" : True\n",
    "    },\n",
    "    {\n",
    "        \"nome\" : \"Produto B\",\n",
    "        \"preco\" : 20.0,\n",
    "        \"em_estoque\" : False\n",
    "    },\n",
    "    {\n",
    "        \"nome\" : \"Produto C\",\n",
    "        \"preco\" : 30.0,\n",
    "        \"em_estoque\" : True\n",
    "    },\n",
    "    {\n",
    "        \"nome\" : \"Produto D\",\n",
    "        \"preco\" : 40.0,\n",
    "        \"em_estoque\" : False\n",
    "    }\n",
    "]"
   ]
  },
  {
   "cell_type": "code",
   "execution_count": 14,
   "id": "1924927c",
   "metadata": {},
   "outputs": [],
   "source": [
    "def is_em_estoque(produto):\n",
    "    return produto[\"em_estoque\"]"
   ]
  },
  {
   "cell_type": "code",
   "execution_count": 15,
   "id": "9a265fa3",
   "metadata": {},
   "outputs": [],
   "source": [
    "produtos_disponiveis = list(filter(is_em_estoque, produtos))"
   ]
  },
  {
   "cell_type": "code",
   "execution_count": 16,
   "id": "457edce0",
   "metadata": {},
   "outputs": [
    {
     "data": {
      "text/plain": [
       "[{'nome': 'Produto A', 'preco': 10.0, 'em_estoque': True},\n",
       " {'nome': 'Produto C', 'preco': 30.0, 'em_estoque': True}]"
      ]
     },
     "execution_count": 16,
     "metadata": {},
     "output_type": "execute_result"
    }
   ],
   "source": [
    "produtos_disponiveis"
   ]
  },
  {
   "cell_type": "markdown",
   "id": "458a89c3",
   "metadata": {},
   "source": [
    "---\n",
    "### Exemplo Transações"
   ]
  },
  {
   "cell_type": "code",
   "execution_count": 17,
   "id": "4f318223",
   "metadata": {},
   "outputs": [],
   "source": [
    "transacoes = [200.0, -50.0, 75.0, -30.0, 100.0, -10.0]"
   ]
  },
  {
   "cell_type": "code",
   "execution_count": 18,
   "id": "e446c48a",
   "metadata": {},
   "outputs": [],
   "source": [
    "def is_despesa(transacao):\n",
    "    return transacao < 0"
   ]
  },
  {
   "cell_type": "code",
   "execution_count": 19,
   "id": "e715c7e8",
   "metadata": {},
   "outputs": [],
   "source": [
    "despesas = list(filter(is_despesa, transacoes))"
   ]
  },
  {
   "cell_type": "code",
   "execution_count": 20,
   "id": "376d1b2f",
   "metadata": {},
   "outputs": [
    {
     "data": {
      "text/plain": [
       "[-50.0, -30.0, -10.0]"
      ]
     },
     "execution_count": 20,
     "metadata": {},
     "output_type": "execute_result"
    }
   ],
   "source": [
    "despesas"
   ]
  }
 ],
 "metadata": {
  "kernelspec": {
   "display_name": "Python 3",
   "language": "python",
   "name": "python3"
  },
  "language_info": {
   "codemirror_mode": {
    "name": "ipython",
    "version": 3
   },
   "file_extension": ".py",
   "mimetype": "text/x-python",
   "name": "python",
   "nbconvert_exporter": "python",
   "pygments_lexer": "ipython3",
   "version": "3.11.9"
  }
 },
 "nbformat": 4,
 "nbformat_minor": 5
}
