{
 "cells": [
  {
   "cell_type": "markdown",
   "id": "1b19896c",
   "metadata": {},
   "source": [
    "# Manipulação de arquivos txt\n",
    "\n",
    "- Persistir informação sem ser em Banco de dados"
   ]
  },
  {
   "cell_type": "markdown",
   "id": "e87b8e1c",
   "metadata": {},
   "source": [
    "## Arquivos - Modos de operação\n",
    "1. Modo W - write (escrever)\n",
    "2. Modo A - append (escrever no fim)\n",
    "3. Modo R - read (leitura)"
   ]
  },
  {
   "cell_type": "code",
   "execution_count": 19,
   "id": "c6833777",
   "metadata": {},
   "outputs": [],
   "source": [
    "name = input(\"Digite o nome do aluno:\\n\")"
   ]
  },
  {
   "cell_type": "code",
   "execution_count": null,
   "id": "b81ee92e",
   "metadata": {},
   "outputs": [],
   "source": [
    "file = open(\"dados/names.txt\", \"w\", encode=\"utf-8\") # Abre o arquivo no modo de escrita\n",
    "\n",
    "file.write(f\"{name}\\n\") # Escreve, porém ele não adiciona, ele substitui o conteudo que esva a anteriormente\n",
    "\n",
    "file.close() # Fecha o arquivo para melhorar o desempenho"
   ]
  },
  {
   "cell_type": "code",
   "execution_count": null,
   "id": "750d49c2",
   "metadata": {},
   "outputs": [],
   "source": [
    "file = open(\"dados/names.txt\", \"a\", encode=\"utf-8\") # Abre o arquivo no modo de escrita, porém adiconando\n",
    "\n",
    "file.write(f\"{name}\\n\") # Escreve\n",
    "\n",
    "file.close() # Fecha o arquivo para melhorar o desempenho"
   ]
  },
  {
   "cell_type": "markdown",
   "id": "e717a340",
   "metadata": {},
   "source": [
    "Implementação 2\n",
    "\n",
    "Gerenciando o contexto"
   ]
  },
  {
   "cell_type": "code",
   "execution_count": 20,
   "id": "a78312d9",
   "metadata": {},
   "outputs": [],
   "source": [
    "with open(\"dados/names.txt\", \"a\", encoding=\"utf-8\") as file_a: # Não precisa criar a variável e nem fechar o arquivo no final\n",
    "    file_a.write(f\"{name}\\n\")"
   ]
  },
  {
   "cell_type": "markdown",
   "id": "9a2fc06a",
   "metadata": {},
   "source": [
    "## Leitura do arquivo"
   ]
  },
  {
   "cell_type": "code",
   "execution_count": 21,
   "id": "3ec9d9bf",
   "metadata": {},
   "outputs": [
    {
     "name": "stdout",
     "output_type": "stream",
     "text": [
      "Olá, cicrano!\n",
      "Olá, eduardo!\n",
      "Olá, eduardo!\n",
      "Olá, zebra!\n",
      "Olá, Ane!\n"
     ]
    }
   ],
   "source": [
    "with open(\"dados/names.txt\", \"r\", encoding=\"utf-8\") as file_r:\n",
    "    # print(file_r.read()) # .read() para retornar o arquivo\n",
    "\n",
    "    for line in file_r:\n",
    "        print(f\"Olá, {line.rstrip()}!\")"
   ]
  },
  {
   "cell_type": "markdown",
   "id": "ea0cacc8",
   "metadata": {},
   "source": [
    "Ordenar os nomes"
   ]
  },
  {
   "cell_type": "code",
   "execution_count": 22,
   "id": "be460604",
   "metadata": {},
   "outputs": [
    {
     "name": "stdout",
     "output_type": "stream",
     "text": [
      "['Ane', 'cicrano', 'eduardo', 'eduardo', 'zebra']\n"
     ]
    }
   ],
   "source": [
    "names = []\n",
    "\n",
    "with open(\"dados/names.txt\", \"r\", encoding=\"utf-8\") as file_r:\n",
    "\n",
    "    for line in file_r:\n",
    "        names.append(line.rstrip())\n",
    "\n",
    "print(sorted(names))"
   ]
  }
 ],
 "metadata": {
  "kernelspec": {
   "display_name": "Python 3",
   "language": "python",
   "name": "python3"
  },
  "language_info": {
   "codemirror_mode": {
    "name": "ipython",
    "version": 3
   },
   "file_extension": ".py",
   "mimetype": "text/x-python",
   "name": "python",
   "nbconvert_exporter": "python",
   "pygments_lexer": "ipython3",
   "version": "3.11.9"
  }
 },
 "nbformat": 4,
 "nbformat_minor": 5
}
