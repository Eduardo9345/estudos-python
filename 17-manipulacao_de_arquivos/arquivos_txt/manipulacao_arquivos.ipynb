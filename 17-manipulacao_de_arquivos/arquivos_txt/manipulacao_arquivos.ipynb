{
 "cells": [
  {
   "cell_type": "markdown",
   "id": "1b19896c",
   "metadata": {},
   "source": [
    "# Manipulação de arquivos txt\n",
    "\n",
    "- Persistir informação sem ser em Banco de dados"
   ]
  },
  {
   "cell_type": "markdown",
   "id": "e87b8e1c",
   "metadata": {},
   "source": [
    "## Arquivos - Modos de operação\n",
    "1. Modo W - write (escrever)\n",
    "2. Modo A - append (escrever no fim)\n",
    "3. Modo R - read (leitura)"
   ]
  },
  {
   "cell_type": "code",
   "execution_count": 7,
   "id": "c6833777",
   "metadata": {},
   "outputs": [],
   "source": [
    "name = input(\"Digite o nome do aluno:\\n\")"
   ]
  },
  {
   "cell_type": "code",
   "execution_count": null,
   "id": "b81ee92e",
   "metadata": {},
   "outputs": [],
   "source": [
    "file = open(\"dados/names.txt\", \"w\", encode=\"utf-8\") # Abre o arquivo no modo de escrita\n",
    "\n",
    "file.write(f\"{name}\\n\") # Escreve, porém ele não adiciona, ele substitui o conteudo que esva a anteriormente\n",
    "\n",
    "file.close() # Fecha o arquivo para melhorar o desempenho"
   ]
  },
  {
   "cell_type": "code",
   "execution_count": null,
   "id": "750d49c2",
   "metadata": {},
   "outputs": [],
   "source": [
    "file = open(\"dados/names.txt\", \"a\", encode=\"utf-8\") # Abre o arquivo no modo de escrita, porém adiconando\n",
    "\n",
    "file.write(f\"{name}\\n\") # Escreve\n",
    "\n",
    "file.close() # Fecha o arquivo para melhorar o desempenho"
   ]
  }
 ],
 "metadata": {
  "kernelspec": {
   "display_name": "Python 3",
   "language": "python",
   "name": "python3"
  },
  "language_info": {
   "codemirror_mode": {
    "name": "ipython",
    "version": 3
   },
   "file_extension": ".py",
   "mimetype": "text/x-python",
   "name": "python",
   "nbconvert_exporter": "python",
   "pygments_lexer": "ipython3",
   "version": "3.11.9"
  }
 },
 "nbformat": 4,
 "nbformat_minor": 5
}
