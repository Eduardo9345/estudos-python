{
 "cells": [
  {
   "cell_type": "markdown",
   "id": "94158fda",
   "metadata": {},
   "source": [
    "# Manipulção de CSV\n",
    "\n",
    "- Tabular\n",
    "- Delimitador"
   ]
  },
  {
   "cell_type": "code",
   "execution_count": 7,
   "id": "ec6bb061",
   "metadata": {},
   "outputs": [
    {
     "name": "stdout",
     "output_type": "stream",
     "text": [
      "language -> category\n",
      "Python -> Automacao\n",
      "Python -> Análise de Dados\n",
      "Python ->  IA\n",
      "Javascript -> Backend\n",
      "Javascript -> Frontend\n",
      "Javascript -> Mobile\n",
      "Ruby -> Backend\n",
      "Java -> Sistemas Comerciais\n",
      "Lua -> Desenvolvimento de jogos\n",
      "Solidity -> Smart Contracts\n",
      "Go -> Concorrencia\n",
      "C# -> Jogos\n"
     ]
    }
   ],
   "source": [
    "with open(\"cursos.csv\", \"r\", encoding=\"utf-8\") as file:\n",
    "    for line in file:\n",
    "        # linha = line.rstrip().split(\",\")\n",
    "        # print(linha[0], linha[1])\n",
    "        linguagem, categoria = line.rstrip().split(\",\")\n",
    "        print(f\"{linguagem} -> {categoria}\")"
   ]
  },
  {
   "cell_type": "code",
   "execution_count": 8,
   "id": "c952cbc3",
   "metadata": {},
   "outputs": [],
   "source": [
    "cursos = []\n",
    "\n",
    "with open(\"cursos.csv\", \"r\", encoding=\"utf-8\") as file:\n",
    "    for line in file:\n",
    "        # linha = line.rstrip().split(\",\")\n",
    "        # print(linha[0], linha[1])\n",
    "        linguagem, categoria = line.rstrip().split(\",\")\n",
    "        cursos.append(f\"{linguagem}-{categoria}\")"
   ]
  },
  {
   "cell_type": "code",
   "execution_count": 10,
   "id": "92d551b5",
   "metadata": {},
   "outputs": [
    {
     "name": "stdout",
     "output_type": "stream",
     "text": [
      "C#-Jogos\n",
      "Go-Concorrencia\n",
      "Java-Sistemas Comerciais\n",
      "Javascript-Backend\n",
      "Javascript-Frontend\n",
      "Javascript-Mobile\n",
      "Lua-Desenvolvimento de jogos\n",
      "Python- IA\n",
      "Python-Análise de Dados\n",
      "Python-Automacao\n",
      "Ruby-Backend\n",
      "Solidity-Smart Contracts\n",
      "language-category\n"
     ]
    }
   ],
   "source": [
    "for curso in sorted(cursos):\n",
    "    print(curso)"
   ]
  },
  {
   "cell_type": "markdown",
   "id": "697a4c2d",
   "metadata": {},
   "source": [
    "Dicionário"
   ]
  },
  {
   "cell_type": "code",
   "execution_count": 12,
   "id": "f605a7ea",
   "metadata": {},
   "outputs": [
    {
     "name": "stdout",
     "output_type": "stream",
     "text": [
      "{'language': 'language', 'category': 'category'}\n",
      "{'language': 'Python', 'category': 'Automacao'}\n",
      "{'language': 'Python', 'category': 'Análise de Dados'}\n",
      "{'language': 'Python', 'category': ' IA'}\n",
      "{'language': 'Javascript', 'category': 'Backend'}\n",
      "{'language': 'Javascript', 'category': 'Frontend'}\n",
      "{'language': 'Javascript', 'category': 'Mobile'}\n",
      "{'language': 'Ruby', 'category': 'Backend'}\n",
      "{'language': 'Java', 'category': 'Sistemas Comerciais'}\n",
      "{'language': 'Lua', 'category': 'Desenvolvimento de jogos'}\n",
      "{'language': 'Solidity', 'category': 'Smart Contracts'}\n",
      "{'language': 'Go', 'category': 'Concorrencia'}\n",
      "{'language': 'C#', 'category': 'Jogos'}\n"
     ]
    }
   ],
   "source": [
    "cursos = []\n",
    "\n",
    "with open(\"cursos.csv\", \"r\", encoding=\"utf-8\") as file:\n",
    "    for line in file:\n",
    "        # linha = line.rstrip().split(\",\")\n",
    "        # print(linha[0], linha[1])\n",
    "        linguagem, categoria = line.rstrip().split(\",\")\n",
    "        curso = {}\n",
    "        curso[\"language\"] = linguagem\n",
    "        curso[\"category\"] = categoria\n",
    "\n",
    "        cursos.append(curso)\n",
    "\n",
    "for curso in cursos:\n",
    "    print(curso)"
   ]
  },
  {
   "cell_type": "code",
   "execution_count": 17,
   "id": "1945d987",
   "metadata": {},
   "outputs": [
    {
     "name": "stdout",
     "output_type": "stream",
     "text": [
      "{'language': 'Python', 'category': 'Análise de Dados'}\n",
      "{'language': 'Python', 'category': 'Automacao'}\n",
      "{'language': 'Javascript', 'category': 'Backend'}\n",
      "{'language': 'Ruby', 'category': 'Backend'}\n",
      "{'language': 'Go', 'category': 'Concorrencia'}\n",
      "{'language': 'Lua', 'category': 'Desenvolvimento de jogos'}\n",
      "{'language': 'Javascript', 'category': 'Frontend'}\n",
      "{'language': 'Python', 'category': 'IA'}\n",
      "{'language': 'C#', 'category': 'Jogos'}\n",
      "{'language': 'Javascript', 'category': 'Mobile'}\n",
      "{'language': 'Java', 'category': 'Sistemas Comerciais'}\n",
      "{'language': 'Solidity', 'category': 'Smart Contracts'}\n",
      "{'language': 'language', 'category': 'category'}\n"
     ]
    }
   ],
   "source": [
    "cursos = []\n",
    "\n",
    "with open(\"cursos.csv\", \"r\", encoding=\"utf-8\") as file:\n",
    "    for line in file:\n",
    "        # linha = line.rstrip().split(\",\")\n",
    "        # print(linha[0], linha[1])\n",
    "        linguagem, categoria = line.rstrip().split(\",\")\n",
    "        curso = {}\n",
    "        curso[\"language\"] = linguagem\n",
    "        curso[\"category\"] = categoria\n",
    "\n",
    "        cursos.append(curso)\n",
    "\n",
    "def get_language(course):\n",
    "    return course[\"language\"]\n",
    "\n",
    "def get_category(course):\n",
    "    return course[\"category\"]\n",
    "\n",
    "for curso in sorted(cursos, key=get_category): # Pode usar uma lambda também\n",
    "    print(curso)"
   ]
  }
 ],
 "metadata": {
  "kernelspec": {
   "display_name": "Python 3",
   "language": "python",
   "name": "python3"
  },
  "language_info": {
   "codemirror_mode": {
    "name": "ipython",
    "version": 3
   },
   "file_extension": ".py",
   "mimetype": "text/x-python",
   "name": "python",
   "nbconvert_exporter": "python",
   "pygments_lexer": "ipython3",
   "version": "3.11.9"
  }
 },
 "nbformat": 4,
 "nbformat_minor": 5
}
