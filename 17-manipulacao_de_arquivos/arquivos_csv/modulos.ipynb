{
 "cells": [
  {
   "cell_type": "markdown",
   "id": "7223ee61",
   "metadata": {},
   "source": [
    "## Modulo de Manipulção de CSV"
   ]
  },
  {
   "cell_type": "code",
   "execution_count": 1,
   "id": "911cc2d1",
   "metadata": {},
   "outputs": [],
   "source": [
    "import csv"
   ]
  },
  {
   "cell_type": "code",
   "execution_count": 3,
   "id": "7b6c7f01",
   "metadata": {},
   "outputs": [],
   "source": [
    "cursos = []\n",
    "\n",
    "with open(\"cursos.csv\", \"r\", encoding=\"utf-8\") as file:\n",
    "    reader = csv.DictReader(file)\n",
    "\n",
    "    for row in reader:\n",
    "        cursos.append({\n",
    "            \"language\" : row[\"language\"],\n",
    "            \"category\" : row[\"category\"]\n",
    "        })"
   ]
  },
  {
   "cell_type": "code",
   "execution_count": 4,
   "id": "becddf4d",
   "metadata": {},
   "outputs": [
    {
     "data": {
      "text/plain": [
       "[{'language': 'Python', 'category': 'Automacao'},\n",
       " {'language': 'Python', 'category': 'Análise de Dados'},\n",
       " {'language': 'Python', 'category': 'IA'},\n",
       " {'language': 'Javascript', 'category': 'Backend'},\n",
       " {'language': 'Javascript', 'category': 'Frontend'},\n",
       " {'language': 'Javascript', 'category': 'Mobile'},\n",
       " {'language': 'Ruby', 'category': 'Backend'},\n",
       " {'language': 'Java', 'category': 'Sistemas Comerciais'},\n",
       " {'language': 'Lua', 'category': 'Desenvolvimento de jogos'},\n",
       " {'language': 'Solidity', 'category': 'Smart Contracts'},\n",
       " {'language': 'Go', 'category': 'Concorrencia'},\n",
       " {'language': 'C#', 'category': 'Jogos'}]"
      ]
     },
     "execution_count": 4,
     "metadata": {},
     "output_type": "execute_result"
    }
   ],
   "source": [
    "cursos"
   ]
  },
  {
   "cell_type": "markdown",
   "id": "61f14f3d",
   "metadata": {},
   "source": [
    "### Escrita"
   ]
  },
  {
   "cell_type": "code",
   "execution_count": 6,
   "id": "0e4d557d",
   "metadata": {},
   "outputs": [],
   "source": [
    "linguagem = input(\"Informe o nome da linguagem de programação:\\n\")\n",
    "category = input(\"Informe a categoria da linguagem de programação:\\n\")\n",
    "\n",
    "with open(\"cursos.csv\", \"a\", encoding=\"utf-8\") as file:\n",
    "        writer = csv.writer(file, lineterminator=\"\\n\")\n",
    "        writer.writerow([linguagem, category])"
   ]
  }
 ],
 "metadata": {
  "kernelspec": {
   "display_name": "Python 3",
   "language": "python",
   "name": "python3"
  },
  "language_info": {
   "codemirror_mode": {
    "name": "ipython",
    "version": 3
   },
   "file_extension": ".py",
   "mimetype": "text/x-python",
   "name": "python",
   "nbconvert_exporter": "python",
   "pygments_lexer": "ipython3",
   "version": "3.11.9"
  }
 },
 "nbformat": 4,
 "nbformat_minor": 5
}
