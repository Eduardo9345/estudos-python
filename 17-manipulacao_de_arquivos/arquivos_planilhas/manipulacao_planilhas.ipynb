{
 "cells": [
  {
   "cell_type": "markdown",
   "id": "76bb4b8e",
   "metadata": {},
   "source": [
    "# Manipulação de Planilhas\n",
    "\n",
    "- Pandas: manipulação de arquivos, dados, etc...\n",
    "- XLSX: arquivos de planilhas\n",
    "- Openpyxl também ajuda\n",
    "\n",
    "Arquivo = WorkBook\n",
    "Abas == WorkSheet"
   ]
  },
  {
   "cell_type": "code",
   "execution_count": 1,
   "id": "5ae50e42",
   "metadata": {},
   "outputs": [],
   "source": [
    "import pandas as pd\n",
    "import numpy as np"
   ]
  },
  {
   "cell_type": "code",
   "execution_count": 20,
   "id": "85d4a79e",
   "metadata": {},
   "outputs": [],
   "source": [
    "dados_aba1 = {\n",
    "    \"ID\" : [1, 2, 3, 4, 5],\n",
    "    \"Nome\" : [\"Ana\", \"Carlos\", \"Lucas\", \"Fernanda\", \"Mariana\"],\n",
    "    \"Idade\" : [23, 30, 25, 28, 22],\n",
    "    \"Cidade\" : [\"São Paulo\", \"Rio de Janeiro\", \"Curitiba\", \"Porto Alegre\", \"Salvador\"]\n",
    "}\n",
    "\n",
    "dados_aba2 = {\n",
    "    \"ID\" : [6, 7, 8, 9, 10],\n",
    "    \"Nome\" : [\"João\", \"Beatriz\", \"Rafael\", \"Camila\", \"Mateus\"],\n",
    "    \"Idade\" : [27, 24, 31, 26, 29],\n",
    "    \"Cidade\" : [\"Fortaleza\", \"Manaus\", \"Recife\", \"Brasília\", \"Belo Horizonte\"]\n",
    "}\n",
    "\n",
    "dados_aba3 = {\n",
    "    \"ID\" : [11, 12, 13, 14, 15],\n",
    "    \"Nome\" : [\"Sofia\", \"Pedro\", \"Juliana\", \"Ricardo\", \"Larissa\"],\n",
    "    \"Idade\" : [21, 35, 28, 32, 26],\n",
    "    \"Cidade\" : [\"Florianópolis\", \"Goiânia\", \"Belém\", \"Campinas\", \"Vitória\"]\n",
    "}\n",
    "\n",
    "dados_aba4 = {\n",
    "    \"ID\" : [16, 17, 18, 19, 20],\n",
    "    \"Nome\" : [\"Gabriel\", \"Patrícia\", \"Thiago\", \"Vanessa\", \"André\"],\n",
    "    \"Idade\" : [34, 23, 27, 30, 25],\n",
    "    \"Cidade\" : [\"Natal\", \"João Pessoa\", \"São Luís\", \"Maceió\", \"Cuiabá\"]\n",
    "}\n",
    "\n",
    "dados_aba5 = {\n",
    "    \"ID\" : [21, 22, 23, 24, 25],\n",
    "    \"Nome\" : [\"Isabela\", \"Henrique\", \"Paula\", \"Fábio\", \"Carolina\"],\n",
    "    \"Idade\" : [22, 29, 24, 33, 28],\n",
    "    \"Cidade\" : [\"Londrina\", \"Campo Grande\", \"Teresina\", \"Aracaju\", \"Macapá\"]\n",
    "}\n"
   ]
  },
  {
   "cell_type": "markdown",
   "id": "0cbddcdf",
   "metadata": {},
   "source": [
    "### Criar um DataFrame\n",
    "\n",
    "- Dataframe: Conjunto tabular de dados do Pandas"
   ]
  },
  {
   "cell_type": "code",
   "execution_count": 22,
   "id": "ff80ed8a",
   "metadata": {},
   "outputs": [],
   "source": [
    "df_aba1 = pd.DataFrame(dados_aba1)\n",
    "df_aba2 = pd.DataFrame(dados_aba2)\n",
    "df_aba3 = pd.DataFrame(dados_aba3)\n",
    "df_aba4 = pd.DataFrame(dados_aba4)\n",
    "df_aba5 = pd.DataFrame(dados_aba5)"
   ]
  },
  {
   "cell_type": "code",
   "execution_count": 8,
   "id": "360d6a92",
   "metadata": {},
   "outputs": [],
   "source": [
    "caminho_arquivo = \"dados/clientes.xlsx\""
   ]
  },
  {
   "cell_type": "markdown",
   "id": "931cc3b1",
   "metadata": {},
   "source": [
    "- Instanciar um Writer de Excel usando uma engine\n",
    "- Exportar o dataframe como um arquivo Excel"
   ]
  },
  {
   "cell_type": "code",
   "execution_count": 25,
   "id": "8201bb77",
   "metadata": {},
   "outputs": [],
   "source": [
    "with pd.ExcelWriter(caminho_arquivo, engine=\"openpyxl\") as writer: #Abre e fecha automaticamente a conexão\n",
    "    df_aba1.to_excel(writer, sheet_name=\"Aba1\", index=False) # index = False para não exportar o index junto\n",
    "    df_aba2.to_excel(writer, sheet_name=\"Aba2\", index=False) # index = False para não exportar o index junto\n",
    "    df_aba3.to_excel(writer, sheet_name=\"Aba3\", index=False) # index = False para não exportar o index junto\n",
    "    df_aba4.to_excel(writer, sheet_name=\"Aba4\", index=False) # index = False para não exportar o index junto\n",
    "    df_aba5.to_excel(writer, sheet_name=\"Aba5\", index=False) # index = False para não exportar o index junto\n",
    "    "
   ]
  },
  {
   "cell_type": "code",
   "execution_count": 10,
   "id": "2438fdf2",
   "metadata": {},
   "outputs": [
    {
     "name": "stdout",
     "output_type": "stream",
     "text": [
      "Arquivo criado em dados/clientes.xlsx\n"
     ]
    }
   ],
   "source": [
    "print(f\"Arquivo criado em {caminho_arquivo}\")"
   ]
  },
  {
   "cell_type": "markdown",
   "id": "2b390124",
   "metadata": {},
   "source": [
    "---\n",
    "## Manipular de Planilha existente"
   ]
  },
  {
   "cell_type": "markdown",
   "id": "ddb270e0",
   "metadata": {},
   "source": [
    "### Leitura"
   ]
  },
  {
   "cell_type": "code",
   "execution_count": 21,
   "id": "c0e655a4",
   "metadata": {},
   "outputs": [
    {
     "data": {
      "text/html": [
       "<div>\n",
       "<style scoped>\n",
       "    .dataframe tbody tr th:only-of-type {\n",
       "        vertical-align: middle;\n",
       "    }\n",
       "\n",
       "    .dataframe tbody tr th {\n",
       "        vertical-align: top;\n",
       "    }\n",
       "\n",
       "    .dataframe thead th {\n",
       "        text-align: right;\n",
       "    }\n",
       "</style>\n",
       "<table border=\"1\" class=\"dataframe\">\n",
       "  <thead>\n",
       "    <tr style=\"text-align: right;\">\n",
       "      <th></th>\n",
       "      <th>ID</th>\n",
       "      <th>Nome</th>\n",
       "      <th>Idade</th>\n",
       "      <th>Cidade</th>\n",
       "    </tr>\n",
       "  </thead>\n",
       "  <tbody>\n",
       "    <tr>\n",
       "      <th>0</th>\n",
       "      <td>1</td>\n",
       "      <td>Ana</td>\n",
       "      <td>23</td>\n",
       "      <td>São Paulo</td>\n",
       "    </tr>\n",
       "    <tr>\n",
       "      <th>1</th>\n",
       "      <td>2</td>\n",
       "      <td>Carlos</td>\n",
       "      <td>30</td>\n",
       "      <td>Rio de Janeiro</td>\n",
       "    </tr>\n",
       "    <tr>\n",
       "      <th>2</th>\n",
       "      <td>3</td>\n",
       "      <td>Lucas</td>\n",
       "      <td>25</td>\n",
       "      <td>Curitiba</td>\n",
       "    </tr>\n",
       "    <tr>\n",
       "      <th>3</th>\n",
       "      <td>4</td>\n",
       "      <td>Fernanda</td>\n",
       "      <td>28</td>\n",
       "      <td>Porto Alegre</td>\n",
       "    </tr>\n",
       "    <tr>\n",
       "      <th>4</th>\n",
       "      <td>5</td>\n",
       "      <td>Mariana</td>\n",
       "      <td>22</td>\n",
       "      <td>Salvador</td>\n",
       "    </tr>\n",
       "  </tbody>\n",
       "</table>\n",
       "</div>"
      ],
      "text/plain": [
       "   ID      Nome  Idade          Cidade\n",
       "0   1       Ana     23       São Paulo\n",
       "1   2    Carlos     30  Rio de Janeiro\n",
       "2   3     Lucas     25        Curitiba\n",
       "3   4  Fernanda     28    Porto Alegre\n",
       "4   5   Mariana     22        Salvador"
      ]
     },
     "execution_count": 21,
     "metadata": {},
     "output_type": "execute_result"
    }
   ],
   "source": [
    "tb_clientes = pd.read_excel(caminho_arquivo, sheet_name=\"Aba1\") # Sheetname\n",
    "\n",
    "tb_clientes #type: Dataframe"
   ]
  },
  {
   "cell_type": "code",
   "execution_count": 34,
   "id": "1af59f5c",
   "metadata": {},
   "outputs": [
    {
     "data": {
      "text/html": [
       "<div>\n",
       "<style scoped>\n",
       "    .dataframe tbody tr th:only-of-type {\n",
       "        vertical-align: middle;\n",
       "    }\n",
       "\n",
       "    .dataframe tbody tr th {\n",
       "        vertical-align: top;\n",
       "    }\n",
       "\n",
       "    .dataframe thead th {\n",
       "        text-align: right;\n",
       "    }\n",
       "</style>\n",
       "<table border=\"1\" class=\"dataframe\">\n",
       "  <thead>\n",
       "    <tr style=\"text-align: right;\">\n",
       "      <th></th>\n",
       "      <th>Nome</th>\n",
       "      <th>Idade</th>\n",
       "      <th>Cidade</th>\n",
       "    </tr>\n",
       "    <tr>\n",
       "      <th>ID</th>\n",
       "      <th></th>\n",
       "      <th></th>\n",
       "      <th></th>\n",
       "    </tr>\n",
       "  </thead>\n",
       "  <tbody>\n",
       "    <tr>\n",
       "      <th>1</th>\n",
       "      <td>Ana</td>\n",
       "      <td>23</td>\n",
       "      <td>São Paulo</td>\n",
       "    </tr>\n",
       "    <tr>\n",
       "      <th>2</th>\n",
       "      <td>Carlos</td>\n",
       "      <td>30</td>\n",
       "      <td>Rio de Janeiro</td>\n",
       "    </tr>\n",
       "    <tr>\n",
       "      <th>3</th>\n",
       "      <td>Lucas</td>\n",
       "      <td>25</td>\n",
       "      <td>Curitiba</td>\n",
       "    </tr>\n",
       "    <tr>\n",
       "      <th>4</th>\n",
       "      <td>Fernanda</td>\n",
       "      <td>28</td>\n",
       "      <td>Porto Alegre</td>\n",
       "    </tr>\n",
       "    <tr>\n",
       "      <th>5</th>\n",
       "      <td>Mariana</td>\n",
       "      <td>22</td>\n",
       "      <td>Salvador</td>\n",
       "    </tr>\n",
       "  </tbody>\n",
       "</table>\n",
       "</div>"
      ],
      "text/plain": [
       "        Nome  Idade          Cidade\n",
       "ID                                 \n",
       "1        Ana     23       São Paulo\n",
       "2     Carlos     30  Rio de Janeiro\n",
       "3      Lucas     25        Curitiba\n",
       "4   Fernanda     28    Porto Alegre\n",
       "5    Mariana     22        Salvador"
      ]
     },
     "execution_count": 34,
     "metadata": {},
     "output_type": "execute_result"
    }
   ],
   "source": [
    "tb_clientes = pd.read_excel(caminho_arquivo, sheet_name=\"Aba1\", index_col=\"ID\") # ID agora é o index do DataFrame\n",
    "\n",
    "tb_clientes #type: Dataframe"
   ]
  },
  {
   "cell_type": "code",
   "execution_count": 19,
   "id": "536075e9",
   "metadata": {},
   "outputs": [
    {
     "data": {
      "text/html": [
       "<div>\n",
       "<style scoped>\n",
       "    .dataframe tbody tr th:only-of-type {\n",
       "        vertical-align: middle;\n",
       "    }\n",
       "\n",
       "    .dataframe tbody tr th {\n",
       "        vertical-align: top;\n",
       "    }\n",
       "\n",
       "    .dataframe thead th {\n",
       "        text-align: right;\n",
       "    }\n",
       "</style>\n",
       "<table border=\"1\" class=\"dataframe\">\n",
       "  <thead>\n",
       "    <tr style=\"text-align: right;\">\n",
       "      <th></th>\n",
       "      <th>Nome</th>\n",
       "      <th>Idade</th>\n",
       "    </tr>\n",
       "  </thead>\n",
       "  <tbody>\n",
       "    <tr>\n",
       "      <th>0</th>\n",
       "      <td>Ana</td>\n",
       "      <td>23</td>\n",
       "    </tr>\n",
       "    <tr>\n",
       "      <th>1</th>\n",
       "      <td>Carlos</td>\n",
       "      <td>30</td>\n",
       "    </tr>\n",
       "    <tr>\n",
       "      <th>2</th>\n",
       "      <td>Lucas</td>\n",
       "      <td>25</td>\n",
       "    </tr>\n",
       "    <tr>\n",
       "      <th>3</th>\n",
       "      <td>Fernanda</td>\n",
       "      <td>28</td>\n",
       "    </tr>\n",
       "    <tr>\n",
       "      <th>4</th>\n",
       "      <td>Mariana</td>\n",
       "      <td>22</td>\n",
       "    </tr>\n",
       "  </tbody>\n",
       "</table>\n",
       "</div>"
      ],
      "text/plain": [
       "       Nome  Idade\n",
       "0       Ana     23\n",
       "1    Carlos     30\n",
       "2     Lucas     25\n",
       "3  Fernanda     28\n",
       "4   Mariana     22"
      ]
     },
     "execution_count": 19,
     "metadata": {},
     "output_type": "execute_result"
    }
   ],
   "source": [
    "tb_clientes = pd.read_excel(caminho_arquivo, sheet_name=\"Aba1\", usecols=[1, 2]) # Pegar colunas expecíficas, index da coluna\n",
    "\n",
    "tb_clientes #type: Dataframe"
   ]
  },
  {
   "cell_type": "code",
   "execution_count": 40,
   "id": "a107c2ad",
   "metadata": {},
   "outputs": [
    {
     "data": {
      "text/plain": [
       "{'Aba1':        Nome  Idade\n",
       " 0       Ana     23\n",
       " 1    Carlos     30\n",
       " 2     Lucas     25\n",
       " 3  Fernanda     28\n",
       " 4   Mariana     22,\n",
       " 'Aba2':       Nome  Idade\n",
       " 0     João     27\n",
       " 1  Beatriz     24\n",
       " 2   Rafael     31\n",
       " 3   Camila     26\n",
       " 4   Mateus     29,\n",
       " 'Aba3':       Nome  Idade\n",
       " 0    Sofia     21\n",
       " 1    Pedro     35\n",
       " 2  Juliana     28\n",
       " 3  Ricardo     32\n",
       " 4  Larissa     26,\n",
       " 'Aba4':        Nome  Idade\n",
       " 0   Gabriel     34\n",
       " 1  Patrícia     23\n",
       " 2    Thiago     27\n",
       " 3   Vanessa     30\n",
       " 4     André     25,\n",
       " 'Aba5':        Nome  Idade\n",
       " 0   Isabela     22\n",
       " 1  Henrique     29\n",
       " 2     Paula     24\n",
       " 3     Fábio     33\n",
       " 4  Carolina     28}"
      ]
     },
     "execution_count": 40,
     "metadata": {},
     "output_type": "execute_result"
    }
   ],
   "source": [
    "tb_clientes = pd.read_excel(caminho_arquivo, sheet_name=None, usecols=[1, 2]) # Pegar colunas expecíficas, index da coluna\n",
    "\n",
    "tb_clientes #type: dict"
   ]
  },
  {
   "cell_type": "markdown",
   "id": "6f6e5225",
   "metadata": {},
   "source": [
    "---\n",
    "### Atividade 1"
   ]
  },
  {
   "cell_type": "code",
   "execution_count": 36,
   "id": "4e2098e7",
   "metadata": {},
   "outputs": [],
   "source": [
    "import os"
   ]
  },
  {
   "cell_type": "code",
   "execution_count": 41,
   "id": "283a21dd",
   "metadata": {},
   "outputs": [],
   "source": [
    "def escrever_planilha(df_planilha, nome_planilha, nome_aba=\"Aba1\"):\n",
    "    pasta_saida = \"dados/planilhas\"\n",
    "    \n",
    "    if not os.path.exists(pasta_saida):\n",
    "        os.makedirs(pasta_saida)\n",
    "\n",
    "    with pd.ExcelWriter(f\"{pasta_saida}/{nome_planilha}.xlsx\", engine=\"openpyxl\") as planilha:\n",
    "        df_planilha.to_excel(planilha, nome_aba, index=False)"
   ]
  },
  {
   "cell_type": "code",
   "execution_count": 38,
   "id": "34c26166",
   "metadata": {},
   "outputs": [],
   "source": [
    "def salvar_em_planilhas(lista_dfs):\n",
    "    for index, df in enumerate(lista_dfs):\n",
    "        escrever_planilha(df, f\"Clientes{index + 1}\")"
   ]
  },
  {
   "cell_type": "code",
   "execution_count": 39,
   "id": "d60fa07d",
   "metadata": {},
   "outputs": [
    {
     "name": "stderr",
     "output_type": "stream",
     "text": [
      "C:\\Users\\eduar\\AppData\\Local\\Temp\\ipykernel_6448\\2276930469.py:7: FutureWarning: Starting with pandas version 3.0 all arguments of to_excel except for the argument 'excel_writer' will be keyword-only.\n",
      "  df_planilha.to_excel(planilha, nome_aba, index=False)\n"
     ]
    }
   ],
   "source": [
    "salvar_em_planilhas([df_aba1, df_aba2, df_aba3, df_aba4, df_aba5])"
   ]
  },
  {
   "cell_type": "markdown",
   "id": "a73473c0",
   "metadata": {},
   "source": [
    "---\n",
    "### Atividade 2"
   ]
  },
  {
   "cell_type": "code",
   "execution_count": null,
   "id": "9de6f19d",
   "metadata": {},
   "outputs": [],
   "source": [
    "from pathlib import Path\n",
    "\n",
    "\n",
    "def consolidar():\n",
    "    pasta_consolidada = \"dados/planilhas_consolidadas\"\n",
    "\n",
    "    if not os.path.exists(pasta_consolidada):\n",
    "        os.makedirs(pasta_consolidada)\n",
    "\n",
    "    caminho_consolidado = os.path.join(pasta_consolidada, \"clientes.xlsx\")\n",
    "\n",
    "    with pd.ExcelWriter(caminho_consolidado) as consolidada:\n",
    "        for arquivo in Path(\"dados/planilhas\").glob(\"*.xlsx\"): #glob pega todos os arquivos da pasta com extensão passada\n",
    "            tabela = pd.read_excel(arquivo)\n",
    "            tabela.to_excel(consolidada, sheet_name=arquivo.stem, index=False) # .stem é o nome do arquivo sem a extensao\n",
    "\n",
    "consolidar()"
   ]
  }
 ],
 "metadata": {
  "kernelspec": {
   "display_name": "Python 3",
   "language": "python",
   "name": "python3"
  },
  "language_info": {
   "codemirror_mode": {
    "name": "ipython",
    "version": 3
   },
   "file_extension": ".py",
   "mimetype": "text/x-python",
   "name": "python",
   "nbconvert_exporter": "python",
   "pygments_lexer": "ipython3",
   "version": "3.11.9"
  }
 },
 "nbformat": 4,
 "nbformat_minor": 5
}
