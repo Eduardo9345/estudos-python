{
 "cells": [
  {
   "cell_type": "markdown",
   "id": "4e5e2af8",
   "metadata": {},
   "source": [
    "# Manipular arquivos XML\n",
    "\n",
    "- Parecido com o HTML\n",
    "- Porém, é para comunicação de dados e é extensível, você pode criar suas próprias tags"
   ]
  },
  {
   "cell_type": "code",
   "execution_count": 1,
   "id": "10362617",
   "metadata": {},
   "outputs": [],
   "source": [
    "import xml.etree.ElementTree as ET"
   ]
  },
  {
   "cell_type": "code",
   "execution_count": null,
   "id": "88723c84",
   "metadata": {},
   "outputs": [],
   "source": [
    "dados = \"\"\"<?xml version='1.0' encoding='utf-8'?>\n",
    "<clientes>\n",
    "    <cliente>\n",
    "        <id>1</id>\n",
    "        <nome>Rodrigo</nome>\n",
    "        <idade>30</idade>\n",
    "        <cidade>BH</cidade>\n",
    "    </cliente>\n",
    "    <cliente>\n",
    "        <id>2</id>\n",
    "        <nome>Fulano</nome>\n",
    "        <idade>22</idade>\n",
    "        <cidade>SP</cidade>\n",
    "    </cliente>\n",
    "</clientes>\n",
    "\"\"\""
   ]
  },
  {
   "cell_type": "code",
   "execution_count": 7,
   "id": "6821cef4",
   "metadata": {},
   "outputs": [],
   "source": [
    "caminho_arquivo = \"dados/clientes.xml\""
   ]
  },
  {
   "cell_type": "markdown",
   "id": "1c53cac4",
   "metadata": {},
   "source": [
    "### Exportando dados para XML"
   ]
  },
  {
   "cell_type": "code",
   "execution_count": 9,
   "id": "19060547",
   "metadata": {},
   "outputs": [],
   "source": [
    "with open(caminho_arquivo, \"w\", encoding=\"utf-8\") as f:\n",
    "    f.write(dados)"
   ]
  },
  {
   "cell_type": "markdown",
   "id": "69cfe8e7",
   "metadata": {},
   "source": [
    "### Lendo dados do XMl"
   ]
  },
  {
   "cell_type": "code",
   "execution_count": 13,
   "id": "ef9034ff",
   "metadata": {},
   "outputs": [
    {
     "name": "stdout",
     "output_type": "stream",
     "text": [
      "Id: 1 -> Nome: Rodrigo - Idade: 30\n",
      "Id: 2 -> Nome: Fulano - Idade: 22\n"
     ]
    }
   ],
   "source": [
    "tree = ET.parse(caminho_arquivo)\n",
    "\n",
    "root = tree.getroot()\n",
    "\n",
    "for cliente in root.findall(\"cliente\"):\n",
    "    id_cliente = cliente.find(\"id\").text\n",
    "    nome_cliente = cliente.find(\"nome\").text\n",
    "    idade_cliente = cliente.find(\"idade\").text\n",
    "    cidade_cliente = cliente.find(\"cidade\").text\n",
    "\n",
    "    print(f\"Id: {id_cliente} -> Nome: {nome_cliente} - Idade: {idade_cliente}\")"
   ]
  },
  {
   "cell_type": "markdown",
   "id": "06398422",
   "metadata": {},
   "source": [
    "### Adicionando no cliente"
   ]
  },
  {
   "cell_type": "code",
   "execution_count": 14,
   "id": "f21c1ffb",
   "metadata": {},
   "outputs": [],
   "source": [
    "novo_cliente = ET.Element(\"cliente\")"
   ]
  },
  {
   "cell_type": "code",
   "execution_count": 15,
   "id": "adc2ef43",
   "metadata": {},
   "outputs": [],
   "source": [
    "id_novo = ET.SubElement(novo_cliente, \"id\")\n",
    "id_novo.text = \"5\"\n",
    "nome_novo = ET.SubElement(novo_cliente, \"nome\")\n",
    "nome_novo.text = \"Marcos\"\n",
    "idade_novo = ET.SubElement(novo_cliente, \"idade\")\n",
    "idade_novo.text = \"28\"\n",
    "cidade_novo = ET.SubElement(novo_cliente, \"cidade\")\n",
    "cidade_novo.text = \"Porto Alegre\""
   ]
  },
  {
   "cell_type": "code",
   "execution_count": 16,
   "id": "21a79156",
   "metadata": {},
   "outputs": [],
   "source": [
    "root.append(novo_cliente)"
   ]
  },
  {
   "cell_type": "code",
   "execution_count": null,
   "id": "5cb99543",
   "metadata": {},
   "outputs": [],
   "source": [
    "tree.write(caminho_arquivo, encoding=\"utf-8\", xml_declaration=True)"
   ]
  }
 ],
 "metadata": {
  "kernelspec": {
   "display_name": "Python 3",
   "language": "python",
   "name": "python3"
  },
  "language_info": {
   "codemirror_mode": {
    "name": "ipython",
    "version": 3
   },
   "file_extension": ".py",
   "mimetype": "text/x-python",
   "name": "python",
   "nbconvert_exporter": "python",
   "pygments_lexer": "ipython3",
   "version": "3.11.9"
  }
 },
 "nbformat": 4,
 "nbformat_minor": 5
}
