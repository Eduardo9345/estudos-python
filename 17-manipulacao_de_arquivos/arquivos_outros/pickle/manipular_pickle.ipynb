{
 "cells": [
  {
   "cell_type": "markdown",
   "id": "343927fc",
   "metadata": {},
   "source": [
    "# Manipulação de Arquivo Pickle\n",
    "\n",
    "- Usado para serializar e desserializar objetos no Python\n",
    "- Modelos preditivos\n",
    "- .pkl"
   ]
  },
  {
   "cell_type": "code",
   "execution_count": 10,
   "id": "ceec1061",
   "metadata": {},
   "outputs": [],
   "source": [
    "import pickle\n",
    "\n",
    "class Cliente:\n",
    "\n",
    "    def __init__(self, nome, idade, cidade):\n",
    "        self.nome = nome\n",
    "        self.idade = idade\n",
    "        self.cidade = cidade\n",
    "\n",
    "    def __str__(self):\n",
    "        return (f\"{self.nome} {self.idade} anos - {self.cidade}\")"
   ]
  },
  {
   "cell_type": "code",
   "execution_count": 4,
   "id": "ab4aadfa",
   "metadata": {},
   "outputs": [],
   "source": [
    "clientes = [\n",
    "    Cliente(\"Ana\", 25, \"São Paulo\"),\n",
    "    Cliente(\"Carlos\", 30, \"Rio de Janeiro\"),\n",
    "    Cliente(\"Fernanda\", 22, \"Curitiba\")\n",
    "]"
   ]
  },
  {
   "cell_type": "markdown",
   "id": "7a71f6f7",
   "metadata": {},
   "source": [
    "### Salvar a lista de clientes em arquivo Pickle"
   ]
  },
  {
   "cell_type": "code",
   "execution_count": 6,
   "id": "7c687baf",
   "metadata": {},
   "outputs": [],
   "source": [
    "with open(\"dados/clientes.pkl\", \"wb\") as f: # w - write e b - binary\n",
    "    pickle.dump(clientes, f)"
   ]
  },
  {
   "cell_type": "markdown",
   "id": "1c8d17fe",
   "metadata": {},
   "source": [
    "### Carregando os dados do arquivo Pickle"
   ]
  },
  {
   "cell_type": "code",
   "execution_count": null,
   "id": "8749d700",
   "metadata": {},
   "outputs": [
    {
     "name": "stdout",
     "output_type": "stream",
     "text": [
      "Ana 25 anos - São Paulo\n",
      "Carlos 30 anos - Rio de Janeiro\n",
      "Fernanda 22 anos - Curitiba\n",
      "<class 'list'>\n"
     ]
    }
   ],
   "source": [
    "with open(\"dados/clientes.pkl\", \"rb\") as f:\n",
    "    dados_carregados = pickle.load(f)\n",
    "    \n",
    "for cliente in dados_carregados:\n",
    "    print(cliente)\n",
    "\n",
    "print(type(dados_carregados)) # list"
   ]
  },
  {
   "cell_type": "code",
   "execution_count": 15,
   "id": "46c33ca9",
   "metadata": {},
   "outputs": [],
   "source": [
    "novo_cliente = Cliente(\"Eduardo\", 24, \"Sumé\")\n",
    "\n",
    "dados_carregados.append(novo_cliente)"
   ]
  },
  {
   "cell_type": "markdown",
   "id": "fd6ec509",
   "metadata": {},
   "source": [
    "### Exportar"
   ]
  },
  {
   "cell_type": "code",
   "execution_count": 17,
   "id": "648bf060",
   "metadata": {},
   "outputs": [],
   "source": [
    "with open(\"dados/clientes.pkl\", \"wb\") as f:\n",
    "    pickle.dump(dados_carregados, f)"
   ]
  }
 ],
 "metadata": {
  "kernelspec": {
   "display_name": "Python 3",
   "language": "python",
   "name": "python3"
  },
  "language_info": {
   "codemirror_mode": {
    "name": "ipython",
    "version": 3
   },
   "file_extension": ".py",
   "mimetype": "text/x-python",
   "name": "python",
   "nbconvert_exporter": "python",
   "pygments_lexer": "ipython3",
   "version": "3.11.9"
  }
 },
 "nbformat": 4,
 "nbformat_minor": 5
}
