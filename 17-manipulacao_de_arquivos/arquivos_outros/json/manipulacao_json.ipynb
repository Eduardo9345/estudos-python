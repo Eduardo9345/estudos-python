{
 "cells": [
  {
   "cell_type": "markdown",
   "id": "c61edf4f",
   "metadata": {},
   "source": [
    "# Manipulação de Json"
   ]
  },
  {
   "cell_type": "code",
   "execution_count": 18,
   "id": "7e72759a",
   "metadata": {},
   "outputs": [],
   "source": [
    "import json\n",
    "import os"
   ]
  },
  {
   "cell_type": "code",
   "execution_count": 19,
   "id": "baafd5c2",
   "metadata": {},
   "outputs": [],
   "source": [
    "dados = {\n",
    "    \"clientes\":[\n",
    "        {\"id\" : 1, \"nome\" : \"Ana\", \"idade\" : 25, \"cidade\" : \"São Paulo\"},\n",
    "        {\"id\" : 2, \"nome\" : \"Carlos\", \"idade\" : 30, \"cidade\" : \"Rio de Janeiro\"},\n",
    "        {\"id\" : 3, \"nome\" : \"Fernanda\", \"idade\" : 22, \"cidade\" : \"Curitiba\"},\n",
    "        {\"id\" : 4, \"nome\" : \"João\", \"idade\" : 25, \"cidade\" : \"Belo Horizonte\"}\n",
    "    ]\n",
    "}"
   ]
  },
  {
   "cell_type": "code",
   "execution_count": 20,
   "id": "e0a87289",
   "metadata": {},
   "outputs": [],
   "source": [
    "caminho_arquivo = \"dados/clientes.json\""
   ]
  },
  {
   "cell_type": "code",
   "execution_count": 21,
   "id": "340e7337",
   "metadata": {},
   "outputs": [],
   "source": [
    "if not os.path.exists(\"dados\"):\n",
    "    os.makedirs(\"dados\")"
   ]
  },
  {
   "cell_type": "markdown",
   "id": "0b4942ce",
   "metadata": {},
   "source": [
    "### Exportando dados como json"
   ]
  },
  {
   "cell_type": "code",
   "execution_count": 22,
   "id": "23fba4c5",
   "metadata": {},
   "outputs": [],
   "source": [
    "with open(caminho_arquivo, \"w\", encoding=\"utf-8\") as f:\n",
    "    json.dump(dados, f, indent=4) # dump escreve os dados no arquivo f com indentação de 4 espaços"
   ]
  },
  {
   "cell_type": "markdown",
   "id": "ade8ead5",
   "metadata": {},
   "source": [
    "### Lendo dados do arquivo Json"
   ]
  },
  {
   "cell_type": "code",
   "execution_count": 23,
   "id": "0aabc905",
   "metadata": {},
   "outputs": [
    {
     "data": {
      "text/plain": [
       "{'clientes': [{'id': 1, 'nome': 'Ana', 'idade': 25, 'cidade': 'São Paulo'},\n",
       "  {'id': 2, 'nome': 'Carlos', 'idade': 30, 'cidade': 'Rio de Janeiro'},\n",
       "  {'id': 3, 'nome': 'Fernanda', 'idade': 22, 'cidade': 'Curitiba'},\n",
       "  {'id': 4, 'nome': 'João', 'idade': 25, 'cidade': 'Belo Horizonte'}]}"
      ]
     },
     "metadata": {},
     "output_type": "display_data"
    },
    {
     "name": "stdout",
     "output_type": "stream",
     "text": [
      "<class 'dict'>\n"
     ]
    }
   ],
   "source": [
    "with open(caminho_arquivo, \"r\", encoding=\"utf-8\") as f:\n",
    "    dados_lidos = json.load(f) # Carrega os dados do arquivo em dados_lidos como um dicionário\n",
    "    display(dados_lidos)\n",
    "    print(type(dados_lidos)) #dict"
   ]
  },
  {
   "cell_type": "code",
   "execution_count": null,
   "id": "fe954a12",
   "metadata": {},
   "outputs": [],
   "source": [
    "for (client) in (dados_lidos[\"clientes\"]):\n",
    "    if (client[\"nome\"] == \"Carlos\"):\n",
    "        client[\"idade\"] = 20\n",
    "\n",
    "novo_cliente = {\"id\" : 5, \"nome\" : \"Samylli\", \"idade\" : 28, \"cidade\" : \"Florianópolis\"}\n",
    "dados_lidos[\"clientes\"].append(novo_cliente)"
   ]
  },
  {
   "cell_type": "code",
   "execution_count": 25,
   "id": "3179a7bb",
   "metadata": {},
   "outputs": [],
   "source": [
    "with open(caminho_arquivo, \"w\", encoding=\"utf-8\") as f:\n",
    "    json.dump(dados_lidos, f, indent=4)"
   ]
  }
 ],
 "metadata": {
  "kernelspec": {
   "display_name": "Python 3",
   "language": "python",
   "name": "python3"
  },
  "language_info": {
   "codemirror_mode": {
    "name": "ipython",
    "version": 3
   },
   "file_extension": ".py",
   "mimetype": "text/x-python",
   "name": "python",
   "nbconvert_exporter": "python",
   "pygments_lexer": "ipython3",
   "version": "3.11.9"
  }
 },
 "nbformat": 4,
 "nbformat_minor": 5
}
