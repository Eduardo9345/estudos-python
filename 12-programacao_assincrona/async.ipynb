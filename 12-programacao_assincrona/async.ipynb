{
 "cells": [
  {
   "cell_type": "markdown",
   "id": "50a29049",
   "metadata": {},
   "source": [
    "# Async\n",
    "\n",
    "- Permite que se escreva código de forma não bloqueante\n",
    "- Facilita a execução de múltiplas operações simuntâneas"
   ]
  },
  {
   "cell_type": "code",
   "execution_count": 3,
   "id": "34fbb9d2",
   "metadata": {},
   "outputs": [],
   "source": [
    "import asyncio\n"
   ]
  },
  {
   "cell_type": "code",
   "execution_count": 4,
   "id": "8a5bb62b",
   "metadata": {},
   "outputs": [],
   "source": [
    "async def tarefa(nome, tempo):\n",
    "    print(f\"Tarefa {nome} iniciada.\")\n",
    "\n",
    "    await asyncio.sleep(tempo)\n",
    "\n",
    "    print(f\"Tarefa {nome} concluida\")"
   ]
  },
  {
   "cell_type": "code",
   "execution_count": 5,
   "id": "57a04b70",
   "metadata": {},
   "outputs": [],
   "source": [
    "# Função principal que cordena as tarefas\n",
    "\n",
    "async def main():\n",
    "    await asyncio.gather(\n",
    "        tarefa(\"A\", 2),\n",
    "        tarefa(\"B\", 1)\n",
    "    )"
   ]
  },
  {
   "cell_type": "code",
   "execution_count": 7,
   "id": "2a7adb06",
   "metadata": {},
   "outputs": [],
   "source": [
    "try:\n",
    "    asyncio.get_running_loop()\n",
    "except:\n",
    "    asyncio.run(main())"
   ]
  },
  {
   "cell_type": "code",
   "execution_count": 8,
   "id": "fc4d21b4",
   "metadata": {},
   "outputs": [
    {
     "data": {
      "text/plain": [
       "<Task pending name='Task-8' coro=<main() running at C:\\Users\\eduar\\AppData\\Local\\Temp\\ipykernel_16956\\923551454.py:3>>"
      ]
     },
     "execution_count": 8,
     "metadata": {},
     "output_type": "execute_result"
    },
    {
     "name": "stdout",
     "output_type": "stream",
     "text": [
      "Tarefa A iniciada.\n",
      "Tarefa B iniciada.\n",
      "Tarefa B concluida\n",
      "Tarefa A concluida\n"
     ]
    }
   ],
   "source": [
    "asyncio.ensure_future(main())"
   ]
  }
 ],
 "metadata": {
  "kernelspec": {
   "display_name": "Python 3",
   "language": "python",
   "name": "python3"
  },
  "language_info": {
   "codemirror_mode": {
    "name": "ipython",
    "version": 3
   },
   "file_extension": ".py",
   "mimetype": "text/x-python",
   "name": "python",
   "nbconvert_exporter": "python",
   "pygments_lexer": "ipython3",
   "version": "3.11.9"
  }
 },
 "nbformat": 4,
 "nbformat_minor": 5
}
