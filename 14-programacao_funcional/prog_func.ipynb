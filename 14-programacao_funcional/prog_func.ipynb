{
 "cells": [
  {
   "cell_type": "markdown",
   "id": "72ec595a",
   "metadata": {},
   "source": [
    "# Programacao Funcional\n",
    "\n",
    "- Computação como avaliação de funções matemáticas e evita estados e dados mutáveis"
   ]
  },
  {
   "cell_type": "code",
   "execution_count": 1,
   "id": "5d50ea50",
   "metadata": {},
   "outputs": [],
   "source": [
    "# Função de alta ordem (recebe outra função como argumento)\n",
    "\n",
    "def quadrado(x):\n",
    "    return x * x\n",
    "\n",
    "def aplicar_funcao(funcao, lista):\n",
    "    return [funcao(x) for x in lista]"
   ]
  },
  {
   "cell_type": "code",
   "execution_count": 2,
   "id": "3847955f",
   "metadata": {},
   "outputs": [],
   "source": [
    "numeros = [1, 2, 3, 4, 5]\n",
    "\n",
    "resultado = aplicar_funcao(quadrado, numeros)"
   ]
  },
  {
   "cell_type": "code",
   "execution_count": 3,
   "id": "d1b1f689",
   "metadata": {},
   "outputs": [
    {
     "data": {
      "text/plain": [
       "[1, 4, 9, 16, 25]"
      ]
     },
     "execution_count": 3,
     "metadata": {},
     "output_type": "execute_result"
    }
   ],
   "source": [
    "resultado"
   ]
  },
  {
   "cell_type": "code",
   "execution_count": 4,
   "id": "0f90e614",
   "metadata": {},
   "outputs": [],
   "source": [
    "usuarios = [\n",
    "    {\"nome\" : \"Alice\", \"idade\" : 30},\n",
    "    {\"nome\" : \"Bob\", \"idade\" : 25},\n",
    "    {\"nome\" : \"Charlie\", \"idade\" : 35},\n",
    "    {\"nome\" : \"Diana\", \"idade\" : 28}\n",
    "]"
   ]
  },
  {
   "cell_type": "code",
   "execution_count": 10,
   "id": "15a4aa5a",
   "metadata": {},
   "outputs": [],
   "source": [
    "def extrair_nomes(usuarios):\n",
    "    return list(map(lambda u: u['nome'], usuarios))\n",
    "\n",
    "def filtrar_maiores_que(usuarios, idade):\n",
    "    return list(filter(lambda i : i['idade'] > idade, usuarios))\n",
    "\n",
    "def calcular_media_idade(usuarios):\n",
    "    if not usuarios:\n",
    "        return 0\n",
    "    total_idade = sum(map(lambda u : u['idade'], usuarios))\n",
    "    return total_idade / len(usuarios)"
   ]
  },
  {
   "cell_type": "code",
   "execution_count": 11,
   "id": "b5cb1b3e",
   "metadata": {},
   "outputs": [
    {
     "data": {
      "text/plain": [
       "[{'nome': 'Alice', 'idade': 30},\n",
       " {'nome': 'Charlie', 'idade': 35},\n",
       " {'nome': 'Diana', 'idade': 28}]"
      ]
     },
     "execution_count": 11,
     "metadata": {},
     "output_type": "execute_result"
    }
   ],
   "source": [
    "usuarios_maiores_que_27 = filtrar_maiores_que(usuarios, 27)\n",
    "usuarios_maiores_que_27"
   ]
  },
  {
   "cell_type": "code",
   "execution_count": 13,
   "id": "a5413928",
   "metadata": {},
   "outputs": [
    {
     "data": {
      "text/plain": [
       "['Alice', 'Charlie', 'Diana']"
      ]
     },
     "execution_count": 13,
     "metadata": {},
     "output_type": "execute_result"
    }
   ],
   "source": [
    "nomes_maiores_que_27 = extrair_nomes(usuarios_maiores_que_27)\n",
    "nomes_maiores_que_27"
   ]
  },
  {
   "cell_type": "code",
   "execution_count": 14,
   "id": "ec7658a2",
   "metadata": {},
   "outputs": [
    {
     "data": {
      "text/plain": [
       "31.0"
      ]
     },
     "execution_count": 14,
     "metadata": {},
     "output_type": "execute_result"
    }
   ],
   "source": [
    "media_idade = calcular_media_idade(usuarios_maiores_que_27)\n",
    "media_idade"
   ]
  },
  {
   "cell_type": "code",
   "execution_count": 15,
   "id": "1c86d300",
   "metadata": {},
   "outputs": [],
   "source": [
    "from functools import lru_cache"
   ]
  },
  {
   "cell_type": "code",
   "execution_count": 17,
   "id": "24ee69c1",
   "metadata": {},
   "outputs": [],
   "source": [
    "@lru_cache(maxsize=None)\n",
    "def fibonacci(n):\n",
    "    if n <= 1:\n",
    "        return n\n",
    "    return fibonacci(n - 1) + fibonacci(n - 2)"
   ]
  },
  {
   "cell_type": "code",
   "execution_count": 18,
   "id": "39c244ec",
   "metadata": {},
   "outputs": [
    {
     "name": "stdout",
     "output_type": "stream",
     "text": [
      "Fibonacci(0) = 0\n",
      "Fibonacci(1) = 1\n",
      "Fibonacci(2) = 1\n",
      "Fibonacci(3) = 2\n",
      "Fibonacci(4) = 3\n",
      "Fibonacci(5) = 5\n",
      "Fibonacci(6) = 8\n",
      "Fibonacci(7) = 13\n",
      "Fibonacci(8) = 21\n",
      "Fibonacci(9) = 34\n"
     ]
    }
   ],
   "source": [
    "for i in range(10):\n",
    "    print(f\"Fibonacci({i}) = {fibonacci(i)}\")"
   ]
  }
 ],
 "metadata": {
  "kernelspec": {
   "display_name": "Python 3",
   "language": "python",
   "name": "python3"
  },
  "language_info": {
   "codemirror_mode": {
    "name": "ipython",
    "version": 3
   },
   "file_extension": ".py",
   "mimetype": "text/x-python",
   "name": "python",
   "nbconvert_exporter": "python",
   "pygments_lexer": "ipython3",
   "version": "3.11.9"
  }
 },
 "nbformat": 4,
 "nbformat_minor": 5
}
